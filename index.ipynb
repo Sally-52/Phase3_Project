{
 "cells": [
  {
   "cell_type": "markdown",
   "metadata": {},
   "source": [
    "## Tanzania Water Wells."
   ]
  },
  {
   "cell_type": "markdown",
   "metadata": {},
   "source": [
    "\n",
    "\n",
    "# Overview\n",
    "## Business Understanding"
   ]
  },
  {
   "cell_type": "markdown",
   "metadata": {},
   "source": [
    "Tanzania is known to be a well developing nation with a population of approximaltely 60 milion people.Millions of people in Tanzania, struggle to get clean water and are forced to cover very long distances in search of clean water. Wells are the main source of water for most Tanzanians,however many are broken or in bad shape. This shortage of water is a major issue as water is an essential in various sectors,leading to poor health,slow economic growth and hindered productivity.\n",
    "This projects with the use of machine learning tools aims at identifying why some wells fail,predict whether the new wells will work . "
   ]
  },
  {
   "cell_type": "markdown",
   "metadata": {},
   "source": [
    "# . Challenges .\n",
    "1. The population of some areas is relatively high as compared to access of water.\n",
    "2. Poor water quality resulting to diseases.\n",
    "3. Insufficient funding for the maintainance and also development.\n",
    "4. Climate change\n"
   ]
  },
  {
   "cell_type": "markdown",
   "metadata": {},
   "source": [
    "##  Problem Statement"
   ]
  },
  {
   "cell_type": "markdown",
   "metadata": {},
   "source": [
    "Water shortage is a crucial problem in Tanzania and this arises majorly from the maintenance of wells.Maintaning these water sources is also a challenge maybe because of water quality,geographical location,infrastracture upkeep and many other factors. Some are non-functonal while others are partially functional.This may limit the local citizens from accessing clean water.\n",
    "Challenges faced include: Health and sanitation issues,Poor economic growth and hindered productivity.\n",
    "\n",
    "Our project here aims to help those who are in charge of water be it governmeantal ,non-governmental organisations and maybe policymakers to make improved or better decisions that would help in improvement of the functionality and maintenance of water wells in the country."
   ]
  },
  {
   "cell_type": "markdown",
   "metadata": {},
   "source": [
    "## 1.3 Objective"
   ]
  },
  {
   "cell_type": "markdown",
   "metadata": {},
   "source": [
    "The objective of our project is come up with a prdeictive model that will determine functionality of water wells accurately.Using the data provided and making use of our knowledge in data science, our project focuses on addressing the challenge of the non-funcionality of the wells,improving access to clean water for the people.\n",
    "Focus of our project is:\n",
    "1. Identifying key factors that may contribute to functionality of waterwells in Tanzania.\n",
    "2. Developing a predictive model that can predict functionality of water wells based on attributes such as geographical location,infrastracture and water quality.\n",
    "3. Enable data-driven decision making.\n",
    "4. provide recommendations that can boost on the efforts for maintenance"
   ]
  },
  {
   "cell_type": "markdown",
   "metadata": {},
   "source": [
    "## Specific Objectives\n",
    "1. determine if functionality of the wells varies on quantity.\n",
    "2. Identify the most popular water point type.\n",
    "3. Determine whether the status of functionality is related to the payment type.\n"
   ]
  },
  {
   "cell_type": "markdown",
   "metadata": {},
   "source": [
    "##  Main objective\n",
    "\n",
    "Build a classifier model that will determine functionality of waterwells accurately."
   ]
  },
  {
   "cell_type": "markdown",
   "metadata": {},
   "source": [
    "## Success Metrics\n",
    "Provide 60 % and above accuracy on wells functionality."
   ]
  },
  {
   "cell_type": "markdown",
   "metadata": {},
   "source": [
    "## Data Understanding"
   ]
  },
  {
   "cell_type": "markdown",
   "metadata": {},
   "source": [
    "We start by describing our data."
   ]
  },
  {
   "cell_type": "markdown",
   "metadata": {},
   "source": [
    "\n",
    "## Data Sources\n",
    "\n",
    "Got this data provided from Taarifa and the Tanzanian Ministry of Water.It is organized into three separate CSV files: https://www.drivendata.org/competitions/7/pump-it-up-data-mining-the-water-table/data/\n",
    "\n",
    "1. Test Set Values\n",
    "2. Training Set Labels\n",
    "3. Training Set Values"
   ]
  },
  {
   "cell_type": "markdown",
   "metadata": {},
   "source": [
    "The labels in this dataset\n",
    "The labels in this dataset are simple. There are three possible values:\n",
    "\n",
    "1. functional - the waterpoint is operational and there are no repairs needed\n",
    "\n",
    "2. functional needs repair - the waterpoint is operational, but needs repairs\n",
    "3. non functional - the waterpoint is not operational"
   ]
  },
  {
   "cell_type": "markdown",
   "metadata": {},
   "source": [
    "The predictor variables in this data include:\n",
    "\n",
    "1.  amount_tsh - Total static head (amount water available to wterpoint)\n",
    "2. date_recorded - The date the row was entered\n",
    "3. funder - Who funded the well\n",
    "4. gps_height - Altitude of the well\n",
    "5. installer - Organization that installed the well\n",
    "6. longitude - GPS coordinate\n",
    "7. latitude - GPS coordinate\n",
    "8. wpt_name - Name of the waterpoint if there is one\n",
    "9. num_private - Number of households with private access to the well\n",
    "10. basin - Geographic water basin\n",
    "11. subvillage - Geographic location\n",
    "12. region - Geographic location\n",
    "13. region_code - Geographic location \n",
    "14. district_code - Geographic location \n",
    "15. lga - Geographic location\n",
    "16. ward - Geographic location\n",
    "17. population - Population around the well\n",
    "18. public_meeting - True/False\n",
    "19. recorded_by - Group entering this row of data\n",
    "20. scheme_management - Who operates the waterpoint\n",
    "21. scheme_name - Who operates the waterpoint\n",
    "22. permit - If the waterpoint is permitted\n",
    "23. construction_year - Year the waterpoint was constructed\n",
    "24. extraction_type - The kind of extraction the waterpoint uses\n",
    "25. extraction_type_group - The kind of extraction the waterpoint uses\n",
    "26. extraction_type_class - The kind of extraction the waterpoint uses\n",
    "27. management - How the waterpoint is managed\n",
    "28. management_group - How the waterpoint is managed\n",
    "29. payment - What the water costs\n",
    "30. payment_type - What the water costs\n",
    "31. water_quality - The quality of the water\n",
    "32. quality_group - The quality of the water\n",
    "33. quantity - The quantity of water\n",
    "34. quantity_group - The quantity of water\n",
    "35. source - The source of the water\n",
    "36. source_type - The source of the water\n",
    "37. source_class - The source of the water\n",
    "38. waterpoint_type - The kind of waterpoint\n",
    "39. waterpoint_type_group - The kind of waterpoint\n"
   ]
  },
  {
   "cell_type": "markdown",
   "metadata": {},
   "source": [
    "Since we have described our data already,we will go ahead and import the relevant libraries and load our data."
   ]
  },
  {
   "cell_type": "code",
   "execution_count": 9,
   "metadata": {},
   "outputs": [],
   "source": [
    "#import the relevant libraries\n",
    "import pandas as pd\n",
    "import numpy as np\n",
    "import seaborn as sns\n",
    "import statsmodels.api as sm\n",
    "import matplotlib.pyplot as plt\n",
    "%matplotlib inline \n",
    "from scipy.stats import norm\n",
    "from scipy import stats\n",
    "from sklearn.model_selection import train_test_split\n",
    "from sklearn.neighbors import KNeighborsClassifier\n",
    "from sklearn.ensemble import RandomForestClassifier\n",
    "from sklearn.tree import DecisionTreeClassifier\n",
    "from sklearn.model_selection import GridSearchCV\n",
    "from sklearn.preprocessing import StandardScaler\n",
    "from sklearn import metrics\n",
    "from sklearn.metrics import accuracy_score\n",
    "from sklearn.metrics import accuracy_score, precision_score, recall_score, f1_score"
   ]
  },
  {
   "cell_type": "markdown",
   "metadata": {},
   "source": [
    "We are going to go ahead and load our datasets "
   ]
  },
  {
   "cell_type": "code",
   "execution_count": 10,
   "metadata": {},
   "outputs": [],
   "source": [
    "# Loading the datasets\n",
    "training_data = pd.read_csv(\"Training_Set_values.csv\")\n",
    "testing_data = pd.read_csv(\"Test_set.csv\")\n",
    "training_labels = pd.read_csv(\"Training_Set_labels.csv\")\n"
   ]
  },
  {
   "cell_type": "code",
   "execution_count": 11,
   "metadata": {},
   "outputs": [
    {
     "name": "stdout",
     "output_type": "stream",
     "text": [
      "          id  amount_tsh date_recorded           funder  gps_height  \\\n",
      "0      69572      6000.0    2011-03-14            Roman        1390   \n",
      "1       8776         0.0    2013-03-06          Grumeti        1399   \n",
      "2      34310        25.0    2013-02-25     Lottery Club         686   \n",
      "3      67743         0.0    2013-01-28           Unicef         263   \n",
      "4      19728         0.0    2011-07-13      Action In A           0   \n",
      "...      ...         ...           ...              ...         ...   \n",
      "59395  60739        10.0    2013-05-03  Germany Republi        1210   \n",
      "59396  27263      4700.0    2011-05-07      Cefa-njombe        1212   \n",
      "59397  37057         0.0    2011-04-11              NaN           0   \n",
      "59398  31282         0.0    2011-03-08            Malec           0   \n",
      "59399  26348         0.0    2011-03-23       World Bank         191   \n",
      "\n",
      "          installer  longitude   latitude              wpt_name  num_private  \\\n",
      "0             Roman  34.938093  -9.856322                  none            0   \n",
      "1           GRUMETI  34.698766  -2.147466              Zahanati            0   \n",
      "2      World vision  37.460664  -3.821329           Kwa Mahundi            0   \n",
      "3            UNICEF  38.486161 -11.155298  Zahanati Ya Nanyumbu            0   \n",
      "4           Artisan  31.130847  -1.825359               Shuleni            0   \n",
      "...             ...        ...        ...                   ...          ...   \n",
      "59395           CES  37.169807  -3.253847   Area Three Namba 27            0   \n",
      "59396          Cefa  35.249991  -9.070629     Kwa Yahona Kuvala            0   \n",
      "59397           NaN  34.017087  -8.750434               Mashine            0   \n",
      "59398          Musa  35.861315  -6.378573                Mshoro            0   \n",
      "59399         World  38.104048  -6.747464       Kwa Mzee Lugawa            0   \n",
      "\n",
      "       ... water_quality quality_group      quantity  quantity_group  \\\n",
      "0      ...          soft          good        enough          enough   \n",
      "1      ...          soft          good  insufficient    insufficient   \n",
      "2      ...          soft          good        enough          enough   \n",
      "3      ...          soft          good           dry             dry   \n",
      "4      ...          soft          good      seasonal        seasonal   \n",
      "...    ...           ...           ...           ...             ...   \n",
      "59395  ...          soft          good        enough          enough   \n",
      "59396  ...          soft          good        enough          enough   \n",
      "59397  ...      fluoride      fluoride        enough          enough   \n",
      "59398  ...          soft          good  insufficient    insufficient   \n",
      "59399  ...         salty         salty        enough          enough   \n",
      "\n",
      "                     source           source_type source_class  \\\n",
      "0                    spring                spring  groundwater   \n",
      "1      rainwater harvesting  rainwater harvesting      surface   \n",
      "2                       dam                   dam      surface   \n",
      "3               machine dbh              borehole  groundwater   \n",
      "4      rainwater harvesting  rainwater harvesting      surface   \n",
      "...                     ...                   ...          ...   \n",
      "59395                spring                spring  groundwater   \n",
      "59396                 river            river/lake      surface   \n",
      "59397           machine dbh              borehole  groundwater   \n",
      "59398          shallow well          shallow well  groundwater   \n",
      "59399          shallow well          shallow well  groundwater   \n",
      "\n",
      "                   waterpoint_type waterpoint_type_group    status_group  \n",
      "0               communal standpipe    communal standpipe      functional  \n",
      "1               communal standpipe    communal standpipe      functional  \n",
      "2      communal standpipe multiple    communal standpipe      functional  \n",
      "3      communal standpipe multiple    communal standpipe  non functional  \n",
      "4               communal standpipe    communal standpipe      functional  \n",
      "...                            ...                   ...             ...  \n",
      "59395           communal standpipe    communal standpipe      functional  \n",
      "59396           communal standpipe    communal standpipe      functional  \n",
      "59397                    hand pump             hand pump      functional  \n",
      "59398                    hand pump             hand pump      functional  \n",
      "59399                    hand pump             hand pump      functional  \n",
      "\n",
      "[59400 rows x 41 columns]\n"
     ]
    }
   ],
   "source": [
    "# concatenating train_labels and data\n",
    "train_df = pd.concat([training_data, training_labels],axis=1)\n",
    "\n",
    "# merging the data sets\n",
    "train_df = training_data.merge(training_labels, how = \"inner\")\n",
    "\n",
    "print(train_df)\n",
    "\n"
   ]
  },
  {
   "cell_type": "code",
   "execution_count": 12,
   "metadata": {},
   "outputs": [
    {
     "name": "stdout",
     "output_type": "stream",
     "text": [
      "<class 'pandas.core.frame.DataFrame'>\n",
      "Int64Index: 59400 entries, 0 to 59399\n",
      "Data columns (total 41 columns):\n",
      " #   Column                 Non-Null Count  Dtype  \n",
      "---  ------                 --------------  -----  \n",
      " 0   id                     59400 non-null  int64  \n",
      " 1   amount_tsh             59400 non-null  float64\n",
      " 2   date_recorded          59400 non-null  object \n",
      " 3   funder                 55765 non-null  object \n",
      " 4   gps_height             59400 non-null  int64  \n",
      " 5   installer              55745 non-null  object \n",
      " 6   longitude              59400 non-null  float64\n",
      " 7   latitude               59400 non-null  float64\n",
      " 8   wpt_name               59400 non-null  object \n",
      " 9   num_private            59400 non-null  int64  \n",
      " 10  basin                  59400 non-null  object \n",
      " 11  subvillage             59029 non-null  object \n",
      " 12  region                 59400 non-null  object \n",
      " 13  region_code            59400 non-null  int64  \n",
      " 14  district_code          59400 non-null  int64  \n",
      " 15  lga                    59400 non-null  object \n",
      " 16  ward                   59400 non-null  object \n",
      " 17  population             59400 non-null  int64  \n",
      " 18  public_meeting         56066 non-null  object \n",
      " 19  recorded_by            59400 non-null  object \n",
      " 20  scheme_management      55523 non-null  object \n",
      " 21  scheme_name            31234 non-null  object \n",
      " 22  permit                 56344 non-null  object \n",
      " 23  construction_year      59400 non-null  int64  \n",
      " 24  extraction_type        59400 non-null  object \n",
      " 25  extraction_type_group  59400 non-null  object \n",
      " 26  extraction_type_class  59400 non-null  object \n",
      " 27  management             59400 non-null  object \n",
      " 28  management_group       59400 non-null  object \n",
      " 29  payment                59400 non-null  object \n",
      " 30  payment_type           59400 non-null  object \n",
      " 31  water_quality          59400 non-null  object \n",
      " 32  quality_group          59400 non-null  object \n",
      " 33  quantity               59400 non-null  object \n",
      " 34  quantity_group         59400 non-null  object \n",
      " 35  source                 59400 non-null  object \n",
      " 36  source_type            59400 non-null  object \n",
      " 37  source_class           59400 non-null  object \n",
      " 38  waterpoint_type        59400 non-null  object \n",
      " 39  waterpoint_type_group  59400 non-null  object \n",
      " 40  status_group           59400 non-null  object \n",
      "dtypes: float64(3), int64(7), object(31)\n",
      "memory usage: 19.0+ MB\n"
     ]
    }
   ],
   "source": [
    "train_df.info()"
   ]
  },
  {
   "cell_type": "code",
   "execution_count": 13,
   "metadata": {},
   "outputs": [
    {
     "data": {
      "text/plain": [
       "object     31\n",
       "int64       7\n",
       "float64     3\n",
       "dtype: int64"
      ]
     },
     "execution_count": 13,
     "metadata": {},
     "output_type": "execute_result"
    }
   ],
   "source": [
    "# Getting the data types of the data\n",
    "train_df.dtypes.value_counts()"
   ]
  },
  {
   "cell_type": "code",
   "execution_count": 14,
   "metadata": {},
   "outputs": [
    {
     "name": "stdout",
     "output_type": "stream",
     "text": [
      "Shape of dataset: (59400, 41)\n",
      "Column names: ['id', 'amount_tsh', 'date_recorded', 'funder', 'gps_height', 'installer', 'longitude', 'latitude', 'wpt_name', 'num_private', 'basin', 'subvillage', 'region', 'region_code', 'district_code', 'lga', 'ward', 'population', 'public_meeting', 'recorded_by', 'scheme_management', 'scheme_name', 'permit', 'construction_year', 'extraction_type', 'extraction_type_group', 'extraction_type_class', 'management', 'management_group', 'payment', 'payment_type', 'water_quality', 'quality_group', 'quantity', 'quantity_group', 'source', 'source_type', 'source_class', 'waterpoint_type', 'waterpoint_type_group', 'status_group']\n"
     ]
    }
   ],
   "source": [
    "#function to check on the dataset shape, column names \n",
    "def check_dataset(train_df):\n",
    "    \n",
    "    # Output the shape of the dataset\n",
    "    print(\"Shape of dataset:\", train_df.shape)\n",
    "    \n",
    "    # Output the column names of the dataset\n",
    "    print(\"Column names:\", list(train_df.columns))\n",
    "\n",
    "check_dataset(train_df)"
   ]
  },
  {
   "cell_type": "markdown",
   "metadata": {},
   "source": [
    "## Data Preparation"
   ]
  },
  {
   "cell_type": "code",
   "execution_count": 15,
   "metadata": {},
   "outputs": [
    {
     "name": "stdout",
     "output_type": "stream",
     "text": [
      "No duplicated rows found.\n",
      "Duplicated rows dropped.\n",
      "Cleaned DataFrame:\n",
      "          id  amount_tsh date_recorded           funder  gps_height  \\\n",
      "0      69572      6000.0    2011-03-14            Roman        1390   \n",
      "1       8776         0.0    2013-03-06          Grumeti        1399   \n",
      "2      34310        25.0    2013-02-25     Lottery Club         686   \n",
      "3      67743         0.0    2013-01-28           Unicef         263   \n",
      "4      19728         0.0    2011-07-13      Action In A           0   \n",
      "...      ...         ...           ...              ...         ...   \n",
      "59395  60739        10.0    2013-05-03  Germany Republi        1210   \n",
      "59396  27263      4700.0    2011-05-07      Cefa-njombe        1212   \n",
      "59397  37057         0.0    2011-04-11              NaN           0   \n",
      "59398  31282         0.0    2011-03-08            Malec           0   \n",
      "59399  26348         0.0    2011-03-23       World Bank         191   \n",
      "\n",
      "          installer  longitude   latitude              wpt_name  num_private  \\\n",
      "0             Roman  34.938093  -9.856322                  none            0   \n",
      "1           GRUMETI  34.698766  -2.147466              Zahanati            0   \n",
      "2      World vision  37.460664  -3.821329           Kwa Mahundi            0   \n",
      "3            UNICEF  38.486161 -11.155298  Zahanati Ya Nanyumbu            0   \n",
      "4           Artisan  31.130847  -1.825359               Shuleni            0   \n",
      "...             ...        ...        ...                   ...          ...   \n",
      "59395           CES  37.169807  -3.253847   Area Three Namba 27            0   \n",
      "59396          Cefa  35.249991  -9.070629     Kwa Yahona Kuvala            0   \n",
      "59397           NaN  34.017087  -8.750434               Mashine            0   \n",
      "59398          Musa  35.861315  -6.378573                Mshoro            0   \n",
      "59399         World  38.104048  -6.747464       Kwa Mzee Lugawa            0   \n",
      "\n",
      "       ... water_quality quality_group      quantity  quantity_group  \\\n",
      "0      ...          soft          good        enough          enough   \n",
      "1      ...          soft          good  insufficient    insufficient   \n",
      "2      ...          soft          good        enough          enough   \n",
      "3      ...          soft          good           dry             dry   \n",
      "4      ...          soft          good      seasonal        seasonal   \n",
      "...    ...           ...           ...           ...             ...   \n",
      "59395  ...          soft          good        enough          enough   \n",
      "59396  ...          soft          good        enough          enough   \n",
      "59397  ...      fluoride      fluoride        enough          enough   \n",
      "59398  ...          soft          good  insufficient    insufficient   \n",
      "59399  ...         salty         salty        enough          enough   \n",
      "\n",
      "                     source           source_type source_class  \\\n",
      "0                    spring                spring  groundwater   \n",
      "1      rainwater harvesting  rainwater harvesting      surface   \n",
      "2                       dam                   dam      surface   \n",
      "3               machine dbh              borehole  groundwater   \n",
      "4      rainwater harvesting  rainwater harvesting      surface   \n",
      "...                     ...                   ...          ...   \n",
      "59395                spring                spring  groundwater   \n",
      "59396                 river            river/lake      surface   \n",
      "59397           machine dbh              borehole  groundwater   \n",
      "59398          shallow well          shallow well  groundwater   \n",
      "59399          shallow well          shallow well  groundwater   \n",
      "\n",
      "                   waterpoint_type waterpoint_type_group    status_group  \n",
      "0               communal standpipe    communal standpipe      functional  \n",
      "1               communal standpipe    communal standpipe      functional  \n",
      "2      communal standpipe multiple    communal standpipe      functional  \n",
      "3      communal standpipe multiple    communal standpipe  non functional  \n",
      "4               communal standpipe    communal standpipe      functional  \n",
      "...                            ...                   ...             ...  \n",
      "59395           communal standpipe    communal standpipe      functional  \n",
      "59396           communal standpipe    communal standpipe      functional  \n",
      "59397                    hand pump             hand pump      functional  \n",
      "59398                    hand pump             hand pump      functional  \n",
      "59399                    hand pump             hand pump      functional  \n",
      "\n",
      "[59400 rows x 41 columns]\n"
     ]
    }
   ],
   "source": [
    "class DataCleaner:\n",
    "    def __init__(self, dataframe):\n",
    "        self.dataframe = dataframe\n",
    "\n",
    "    def check_duplicates(self):\n",
    "        # Returns a boolean Series.\n",
    "        duplicated = self.dataframe[self.dataframe.duplicated()]\n",
    "        if not duplicated.empty:\n",
    "            print(\"Found duplicated rows:\")\n",
    "            print(duplicated)\n",
    "        else:\n",
    "            print(\"No duplicated rows found.\")\n",
    "        return duplicated\n",
    "\n",
    "    def drop_duplicates(self):\n",
    "        self.dataframe = self.dataframe.drop_duplicates().reset_index(drop=True)\n",
    "        print(\"Duplicated rows dropped.\")\n",
    "        return self.dataframe\n",
    "\n",
    "\n",
    "df = pd.DataFrame(train_df)\n",
    "cleaner = DataCleaner(df)\n",
    "\n",
    "# Check for duplicates\n",
    "duplicates = cleaner.check_duplicates()\n",
    "\n",
    "# Drop duplicates\n",
    "cleaned_df = cleaner.drop_duplicates()\n",
    "\n",
    "print(\"Cleaned DataFrame:\")\n",
    "print(cleaned_df)\n",
    "\n",
    "# Loading the large dataset (same as before)\n"
   ]
  },
  {
   "cell_type": "markdown",
   "metadata": {},
   "source": [
    "The DataCleaner class is defined and it contains methods to check for and remove duplicate rows from dataframe.\n",
    "\n",
    "We create a large dataset with multiple columns.\n",
    "From the output we see that we had duplicated rows and we ares shown how our cleaned dataframe looked like after we dropped duplicates. and then checked for the duplicates again and none were found."
   ]
  },
  {
   "cell_type": "markdown",
   "metadata": {},
   "source": [
    "## Checking for missing values and handling them"
   ]
  },
  {
   "cell_type": "code",
   "execution_count": 16,
   "metadata": {},
   "outputs": [
    {
     "name": "stdout",
     "output_type": "stream",
     "text": [
      "Missing values in column 'funder' replaced with mode: Government Of Tanzania.\n",
      "Missing values in column 'installer' replaced with mode: DWE.\n",
      "Missing values in column 'subvillage' replaced with mode: Madukani.\n",
      "Missing values in column 'public_meeting' replaced with mode: True.\n",
      "Missing values in column 'scheme_management' replaced with mode: VWC.\n",
      "Missing values in column 'scheme_name' replaced with mode: K.\n",
      "Missing values in column 'permit' replaced with mode: True.\n",
      "DataFrame after replacing missing values with mode:\n",
      "          id  amount_tsh date_recorded                  funder  gps_height  \\\n",
      "0      69572      6000.0    2011-03-14                   Roman        1390   \n",
      "1       8776         0.0    2013-03-06                 Grumeti        1399   \n",
      "2      34310        25.0    2013-02-25            Lottery Club         686   \n",
      "3      67743         0.0    2013-01-28                  Unicef         263   \n",
      "4      19728         0.0    2011-07-13             Action In A           0   \n",
      "...      ...         ...           ...                     ...         ...   \n",
      "59395  60739        10.0    2013-05-03         Germany Republi        1210   \n",
      "59396  27263      4700.0    2011-05-07             Cefa-njombe        1212   \n",
      "59397  37057         0.0    2011-04-11  Government Of Tanzania           0   \n",
      "59398  31282         0.0    2011-03-08                   Malec           0   \n",
      "59399  26348         0.0    2011-03-23              World Bank         191   \n",
      "\n",
      "          installer  longitude   latitude              wpt_name  num_private  \\\n",
      "0             Roman  34.938093  -9.856322                  none            0   \n",
      "1           GRUMETI  34.698766  -2.147466              Zahanati            0   \n",
      "2      World vision  37.460664  -3.821329           Kwa Mahundi            0   \n",
      "3            UNICEF  38.486161 -11.155298  Zahanati Ya Nanyumbu            0   \n",
      "4           Artisan  31.130847  -1.825359               Shuleni            0   \n",
      "...             ...        ...        ...                   ...          ...   \n",
      "59395           CES  37.169807  -3.253847   Area Three Namba 27            0   \n",
      "59396          Cefa  35.249991  -9.070629     Kwa Yahona Kuvala            0   \n",
      "59397           DWE  34.017087  -8.750434               Mashine            0   \n",
      "59398          Musa  35.861315  -6.378573                Mshoro            0   \n",
      "59399         World  38.104048  -6.747464       Kwa Mzee Lugawa            0   \n",
      "\n",
      "       ... water_quality quality_group      quantity  quantity_group  \\\n",
      "0      ...          soft          good        enough          enough   \n",
      "1      ...          soft          good  insufficient    insufficient   \n",
      "2      ...          soft          good        enough          enough   \n",
      "3      ...          soft          good           dry             dry   \n",
      "4      ...          soft          good      seasonal        seasonal   \n",
      "...    ...           ...           ...           ...             ...   \n",
      "59395  ...          soft          good        enough          enough   \n",
      "59396  ...          soft          good        enough          enough   \n",
      "59397  ...      fluoride      fluoride        enough          enough   \n",
      "59398  ...          soft          good  insufficient    insufficient   \n",
      "59399  ...         salty         salty        enough          enough   \n",
      "\n",
      "                     source           source_type source_class  \\\n",
      "0                    spring                spring  groundwater   \n",
      "1      rainwater harvesting  rainwater harvesting      surface   \n",
      "2                       dam                   dam      surface   \n",
      "3               machine dbh              borehole  groundwater   \n",
      "4      rainwater harvesting  rainwater harvesting      surface   \n",
      "...                     ...                   ...          ...   \n",
      "59395                spring                spring  groundwater   \n",
      "59396                 river            river/lake      surface   \n",
      "59397           machine dbh              borehole  groundwater   \n",
      "59398          shallow well          shallow well  groundwater   \n",
      "59399          shallow well          shallow well  groundwater   \n",
      "\n",
      "                   waterpoint_type  waterpoint_type_group    status_group  \n",
      "0               communal standpipe     communal standpipe      functional  \n",
      "1               communal standpipe     communal standpipe      functional  \n",
      "2      communal standpipe multiple     communal standpipe      functional  \n",
      "3      communal standpipe multiple     communal standpipe  non functional  \n",
      "4               communal standpipe     communal standpipe      functional  \n",
      "...                            ...                    ...             ...  \n",
      "59395           communal standpipe     communal standpipe      functional  \n",
      "59396           communal standpipe     communal standpipe      functional  \n",
      "59397                    hand pump              hand pump      functional  \n",
      "59398                    hand pump              hand pump      functional  \n",
      "59399                    hand pump              hand pump      functional  \n",
      "\n",
      "[59400 rows x 41 columns]\n"
     ]
    }
   ],
   "source": [
    "class DataCleaner:\n",
    "    def __init__(self, dataframe):\n",
    "        self.dataframe = dataframe\n",
    "\n",
    "    def replace_missing_with_mode(self):\n",
    "        \"\"\"\n",
    "        Replaces missing values in the DataFrame with the mode of each column.\n",
    "\n",
    "        Returns:\n",
    "            DataFrame: A DataFrame with missing values replaced by the mode.\n",
    "        \"\"\"\n",
    "        for column in self.dataframe.columns:\n",
    "            if self.dataframe[column].isnull().any():\n",
    "                mode_value = self.dataframe[column].mode()[0]\n",
    "                self.dataframe[column].fillna(mode_value, inplace=True)\n",
    "                print(f\"Missing values in column '{column}' replaced with mode: {mode_value}.\")\n",
    "        return self.dataframe\n",
    "\n",
    "df = pd.DataFrame(train_df)\n",
    "handler = DataCleaner(train_df)\n",
    "\n",
    "# Replace missing values with mode (after method definition)\n",
    "df_mode = handler.replace_missing_with_mode()\n",
    "print(\"DataFrame after replacing missing values with mode:\")\n",
    "print(df_mode)\n"
   ]
  },
  {
   "cell_type": "markdown",
   "metadata": {},
   "source": [
    "We checked for missing values and found some that were shown in the columns above which were replaced by the mode using fillna method."
   ]
  },
  {
   "cell_type": "markdown",
   "metadata": {},
   "source": [
    "Some columns here need to be converted to categorical"
   ]
  },
  {
   "cell_type": "code",
   "execution_count": 17,
   "metadata": {},
   "outputs": [
    {
     "data": {
      "text/plain": [
       "<bound method DataFrame.info of           id  amount_tsh date_recorded                  funder  gps_height  \\\n",
       "0      69572      6000.0    2011-03-14                   Roman        1390   \n",
       "1       8776         0.0    2013-03-06                 Grumeti        1399   \n",
       "2      34310        25.0    2013-02-25            Lottery Club         686   \n",
       "3      67743         0.0    2013-01-28                  Unicef         263   \n",
       "4      19728         0.0    2011-07-13             Action In A           0   \n",
       "...      ...         ...           ...                     ...         ...   \n",
       "59395  60739        10.0    2013-05-03         Germany Republi        1210   \n",
       "59396  27263      4700.0    2011-05-07             Cefa-njombe        1212   \n",
       "59397  37057         0.0    2011-04-11  Government Of Tanzania           0   \n",
       "59398  31282         0.0    2011-03-08                   Malec           0   \n",
       "59399  26348         0.0    2011-03-23              World Bank         191   \n",
       "\n",
       "          installer  longitude   latitude              wpt_name  num_private  \\\n",
       "0             Roman  34.938093  -9.856322                  none            0   \n",
       "1           GRUMETI  34.698766  -2.147466              Zahanati            0   \n",
       "2      World vision  37.460664  -3.821329           Kwa Mahundi            0   \n",
       "3            UNICEF  38.486161 -11.155298  Zahanati Ya Nanyumbu            0   \n",
       "4           Artisan  31.130847  -1.825359               Shuleni            0   \n",
       "...             ...        ...        ...                   ...          ...   \n",
       "59395           CES  37.169807  -3.253847   Area Three Namba 27            0   \n",
       "59396          Cefa  35.249991  -9.070629     Kwa Yahona Kuvala            0   \n",
       "59397           DWE  34.017087  -8.750434               Mashine            0   \n",
       "59398          Musa  35.861315  -6.378573                Mshoro            0   \n",
       "59399         World  38.104048  -6.747464       Kwa Mzee Lugawa            0   \n",
       "\n",
       "       ... water_quality quality_group      quantity  quantity_group  \\\n",
       "0      ...          soft          good        enough          enough   \n",
       "1      ...          soft          good  insufficient    insufficient   \n",
       "2      ...          soft          good        enough          enough   \n",
       "3      ...          soft          good           dry             dry   \n",
       "4      ...          soft          good      seasonal        seasonal   \n",
       "...    ...           ...           ...           ...             ...   \n",
       "59395  ...          soft          good        enough          enough   \n",
       "59396  ...          soft          good        enough          enough   \n",
       "59397  ...      fluoride      fluoride        enough          enough   \n",
       "59398  ...          soft          good  insufficient    insufficient   \n",
       "59399  ...         salty         salty        enough          enough   \n",
       "\n",
       "                     source           source_type source_class  \\\n",
       "0                    spring                spring  groundwater   \n",
       "1      rainwater harvesting  rainwater harvesting      surface   \n",
       "2                       dam                   dam      surface   \n",
       "3               machine dbh              borehole  groundwater   \n",
       "4      rainwater harvesting  rainwater harvesting      surface   \n",
       "...                     ...                   ...          ...   \n",
       "59395                spring                spring  groundwater   \n",
       "59396                 river            river/lake      surface   \n",
       "59397           machine dbh              borehole  groundwater   \n",
       "59398          shallow well          shallow well  groundwater   \n",
       "59399          shallow well          shallow well  groundwater   \n",
       "\n",
       "                   waterpoint_type  waterpoint_type_group    status_group  \n",
       "0               communal standpipe     communal standpipe      functional  \n",
       "1               communal standpipe     communal standpipe      functional  \n",
       "2      communal standpipe multiple     communal standpipe      functional  \n",
       "3      communal standpipe multiple     communal standpipe  non functional  \n",
       "4               communal standpipe     communal standpipe      functional  \n",
       "...                            ...                    ...             ...  \n",
       "59395           communal standpipe     communal standpipe      functional  \n",
       "59396           communal standpipe     communal standpipe      functional  \n",
       "59397                    hand pump              hand pump      functional  \n",
       "59398                    hand pump              hand pump      functional  \n",
       "59399                    hand pump              hand pump      functional  \n",
       "\n",
       "[59400 rows x 41 columns]>"
      ]
     },
     "execution_count": 17,
     "metadata": {},
     "output_type": "execute_result"
    }
   ],
   "source": [
    "df_mode.info"
   ]
  },
  {
   "cell_type": "code",
   "execution_count": 18,
   "metadata": {},
   "outputs": [
    {
     "name": "stdout",
     "output_type": "stream",
     "text": [
      "id                          int64\n",
      "amount_tsh                float64\n",
      "date_recorded              object\n",
      "funder                     object\n",
      "gps_height                  int64\n",
      "installer                  object\n",
      "longitude                 float64\n",
      "latitude                  float64\n",
      "wpt_name                   object\n",
      "num_private                 int64\n",
      "basin                    category\n",
      "subvillage                 object\n",
      "region                   category\n",
      "region_code              category\n",
      "district_code            category\n",
      "lga                        object\n",
      "ward                       object\n",
      "population                  int64\n",
      "public_meeting           category\n",
      "recorded_by              category\n",
      "scheme_management        category\n",
      "scheme_name                object\n",
      "permit                       bool\n",
      "construction_year           int64\n",
      "extraction_type            object\n",
      "extraction_type_group      object\n",
      "extraction_type_class      object\n",
      "management                 object\n",
      "management_group           object\n",
      "payment                    object\n",
      "payment_type             category\n",
      "water_quality            category\n",
      "quality_group              object\n",
      "quantity                 category\n",
      "quantity_group             object\n",
      "source                   category\n",
      "source_type                object\n",
      "source_class               object\n",
      "waterpoint_type          category\n",
      "waterpoint_type_group      object\n",
      "status_group               object\n",
      "dtype: object\n"
     ]
    }
   ],
   "source": [
    "#Converting some columns into categorical\n",
    "for col in ['basin','region','region_code','district_code','public_meeting','recorded_by','scheme_management','payment_type','water_quality','quantity','source','waterpoint_type']:\n",
    "    df_mode[col] = df_mode[col].astype('category')\n",
    "\n",
    "print(df_mode.dtypes)\n"
   ]
  },
  {
   "cell_type": "markdown",
   "metadata": {},
   "source": [
    "We chose to convert specific columns into categorical due to nature of the data and the modelling taks we plan to perform."
   ]
  },
  {
   "cell_type": "code",
   "execution_count": 19,
   "metadata": {},
   "outputs": [],
   "source": [
    "columns_to_drop = ['id', 'num_private', 'recorded_by']  # List columns you want to drop\n",
    "\n",
    "df_mode.drop(columns=columns_to_drop, inplace=True)\n"
   ]
  },
  {
   "cell_type": "markdown",
   "metadata": {},
   "source": [
    "## Explanatory Data Analysis"
   ]
  },
  {
   "cell_type": "markdown",
   "metadata": {},
   "source": [
    "In EDA, we delve into a deeper understanding of the dataset gining insights from the content and also its structures through visualizations,and exploration techniques."
   ]
  },
  {
   "cell_type": "markdown",
   "metadata": {},
   "source": [
    "### Univariate Analysis\n",
    "\n",
    "We will start by finding the number of unique funders for the project and the call a function to display the top 12 funders."
   ]
  },
  {
   "cell_type": "code",
   "execution_count": 20,
   "metadata": {},
   "outputs": [
    {
     "name": "stdout",
     "output_type": "stream",
     "text": [
      "There are 1897 unique values of funders\n"
     ]
    }
   ],
   "source": [
    "U_funders = df_mode['funder'].nunique()\n",
    "print(\"There are {} unique values of funders\".format(U_funders))\n"
   ]
  },
  {
   "cell_type": "code",
   "execution_count": 21,
   "metadata": {},
   "outputs": [
    {
     "name": "stdout",
     "output_type": "stream",
     "text": [
      "Top 12 Funders:\n",
      "Government Of Tanzania    12719\n",
      "Danida                     3114\n",
      "Hesawa                     2202\n",
      "Rwssp                      1374\n",
      "World Bank                 1349\n",
      "Kkkt                       1287\n",
      "World Vision               1246\n",
      "Unicef                     1057\n",
      "Tasaf                       877\n",
      "District Council            843\n",
      "Dhv                         829\n",
      "Private Individual          826\n",
      "Name: funder, dtype: int64\n"
     ]
    }
   ],
   "source": [
    "def display_top_funders(data, n=15):\n",
    "    top_funders = df_mode['funder'].value_counts().head(n)\n",
    "    print(f\"Top {n} Funders:\")\n",
    "    print(top_funders)\n",
    "\n",
    "\n",
    "display_top_funders(df_mode, n=12)\n"
   ]
  },
  {
   "cell_type": "markdown",
   "metadata": {},
   "source": [
    "###  Bivariate Analysis"
   ]
  },
  {
   "cell_type": "code",
   "execution_count": 22,
   "metadata": {},
   "outputs": [
    {
     "data": {
      "image/png": "[encoded data removed]",
      "text/plain": [
       "<Figure size 864x432 with 1 Axes>"
      ]
     },
     "metadata": {
      "needs_background": "light"
     },
     "output_type": "display_data"
    }
   ],
   "source": [
    "# Now plot the top twelve funders for thewells.\n",
    "\n",
    "def display_funders(data, n=12):\n",
    "    funders = df_mode['funder'].value_counts().head(n)\n",
    "\n",
    "    # Plot the  funders\n",
    "    plt.figure(figsize=(12, 6))\n",
    "    plt.bar(funders.index, funders.values)\n",
    "    plt.title('Top 12 Funders')\n",
    "    plt.xlabel('Funders')\n",
    "    plt.ylabel('Frequency of wells')\n",
    "    plt.xticks(rotation=60)\n",
    "    plt.show()\n",
    "\n",
    "    return funders\n",
    "\n",
    "\n",
    "funders = display_funders(df_mode, n=12)"
   ]
  },
  {
   "cell_type": "markdown",
   "metadata": {},
   "source": [
    "It is evident that the government of Tanzania is the biggest funder,seconded by Danida and rthen the rest follow."
   ]
  },
  {
   "cell_type": "markdown",
   "metadata": {},
   "source": [
    "We will go ahead and for the number of unique well installers."
   ]
  },
  {
   "cell_type": "code",
   "execution_count": 23,
   "metadata": {},
   "outputs": [
    {
     "name": "stdout",
     "output_type": "stream",
     "text": [
      "There are 2145 unique values of installers\n"
     ]
    }
   ],
   "source": [
    "# Assuming df_mode is already defined\n",
    "unique_installers = df_mode['installer'].nunique()\n",
    "print(\"There are {} unique values of installers\".format(unique_installers))\n"
   ]
  },
  {
   "cell_type": "code",
   "execution_count": 24,
   "metadata": {},
   "outputs": [
    {
     "name": "stdout",
     "output_type": "stream",
     "text": [
      "18\n"
     ]
    }
   ],
   "source": [
    "\n",
    "data = {'installer': ['Roman', 'Grumeti', 'World vision', 'UNICEF', 'Artisan', 'CES', 'Cefa', None, 'Musa', 'World Bank', 'Roman', 'Grumeti', 'World vision', 'UNICEF', 'Artisan', 'CES', 'Cefa', None, 'Musa', 'World Bank']}\n",
    "df = pd.DataFrame(data)\n",
    "\n",
    "# Get the value counts for the 'installer' column\n",
    "installer_counts = df['installer'].value_counts()\n",
    "\n",
    "# Print the sum of the value counts\n",
    "print(installer_counts.sum())\n"
   ]
  },
  {
   "cell_type": "markdown",
   "metadata": {},
   "source": [
    "Given 18 then that means the None was nit counted so will introduce a code that will cater for None."
   ]
  },
  {
   "cell_type": "code",
   "execution_count": 25,
   "metadata": {},
   "outputs": [
    {
     "name": "stdout",
     "output_type": "stream",
     "text": [
      "Number of missing values (None): 2\n",
      "Total installers (including replaced None): 20\n"
     ]
    }
   ],
   "source": [
    "# Check for missing values (None) in the 'installer' column\n",
    "missing_values = df['installer'].isnull().sum()\n",
    "print(f\"Number of missing values (None): {missing_values}\")\n",
    "#instead of excluding 'None' from the count, we will then replace ut with another value\n",
    "\n",
    "  \n",
    "  # Option 2: Replace None with a different value\n",
    "df['installer'] = df['installer'].fillna('Unknown')\n",
    "installer_counts = df['installer'].value_counts()\n",
    "print(f\"Total installers (including replaced None): {installer_counts.sum()}\")\n"
   ]
  },
  {
   "cell_type": "code",
   "execution_count": 26,
   "metadata": {},
   "outputs": [
    {
     "name": "stdout",
     "output_type": "stream",
     "text": [
      "DWE                   21057\n",
      "Government             1825\n",
      "RWE                    1206\n",
      "Commu                  1060\n",
      "DANIDA                 1050\n",
      "KKKT                    898\n",
      "Hesawa                  840\n",
      "0                       777\n",
      "TCRS                    707\n",
      "Central government      622\n",
      "Name: installer, dtype: int64\n"
     ]
    }
   ],
   "source": [
    "#Display the ten top installers\n",
    "top_installers = df_mode ['installer'].value_counts().head(10)\n",
    "print(top_installers)"
   ]
  },
  {
   "cell_type": "code",
   "execution_count": 27,
   "metadata": {},
   "outputs": [
    {
     "data": {
      "image/png": "[encoded data removed]",
      "text/plain": [
       "<Figure size 864x1296 with 1 Axes>"
      ]
     },
     "metadata": {
      "needs_background": "light"
     },
     "output_type": "display_data"
    }
   ],
   "source": [
    "# Now plot the top installers for the wells.\n",
    "\n",
    "def display_installers(data, n=18):\n",
    "    top_installers = df_mode['installer'].value_counts().head(n)\n",
    "\n",
    "    # Plot the  funders\n",
    "    plt.figure(figsize=(12, 18))\n",
    "    plt.bar(top_installers.index, top_installers.values)\n",
    "    plt.title('Top Installers')\n",
    "    plt.xlabel('installers')\n",
    "    plt.ylabel('Frequency of wells')\n",
    "    plt.xticks(rotation=45)\n",
    "    plt.show()\n",
    "\n",
    "    return top_installers\n",
    "\n",
    "\n",
    "funders = display_installers(df_mode, n=18)"
   ]
  },
  {
   "cell_type": "markdown",
   "metadata": {},
   "source": [
    "From the graphical representation above, we see that the top installer is DWE, seconded by the goverment and then the rest follow."
   ]
  },
  {
   "cell_type": "markdown",
   "metadata": {},
   "source": [
    "## Year of construction of wells."
   ]
  },
  {
   "cell_type": "code",
   "execution_count": 28,
   "metadata": {},
   "outputs": [
    {
     "data": {
      "text/plain": [
       "0       20709\n",
       "2010     2645\n",
       "2008     2613\n",
       "2009     2533\n",
       "2000     2091\n",
       "2007     1587\n",
       "2006     1471\n",
       "2003     1286\n",
       "2011     1256\n",
       "2004     1123\n",
       "2012     1084\n",
       "2002     1075\n",
       "1978     1037\n",
       "1995     1014\n",
       "2005     1011\n",
       "1999      979\n",
       "1998      966\n",
       "1990      954\n",
       "1985      945\n",
       "1980      811\n",
       "1996      811\n",
       "1984      779\n",
       "1982      744\n",
       "1994      738\n",
       "1972      708\n",
       "1974      676\n",
       "1997      644\n",
       "1992      640\n",
       "1993      608\n",
       "2001      540\n",
       "1988      521\n",
       "1983      488\n",
       "1975      437\n",
       "1986      434\n",
       "1976      414\n",
       "1970      411\n",
       "1991      324\n",
       "1989      316\n",
       "1987      302\n",
       "1981      238\n",
       "1977      202\n",
       "1979      192\n",
       "1973      184\n",
       "2013      176\n",
       "1971      145\n",
       "1960      102\n",
       "1967       88\n",
       "1963       85\n",
       "1968       77\n",
       "1969       59\n",
       "1964       40\n",
       "1962       30\n",
       "1961       21\n",
       "1965       19\n",
       "1966       17\n",
       "Name: construction_year, dtype: int64"
      ]
     },
     "execution_count": 28,
     "metadata": {},
     "output_type": "execute_result"
    }
   ],
   "source": [
    "df_mode['construction_year'].value_counts()"
   ]
  },
  {
   "cell_type": "markdown",
   "metadata": {},
   "source": [
    "The output listed shows the number of constructions done in various years but since 0 is invalid year then it is likely to be the place holder of missing values but we will not drop it,or even convert it into mdeian because it has majority of the dataset .We will have to use it as a new value."
   ]
  },
  {
   "cell_type": "markdown",
   "metadata": {},
   "source": [
    "We shall create a new column and we will not alter with the original data."
   ]
  },
  {
   "cell_type": "code",
   "execution_count": 29,
   "metadata": {},
   "outputs": [
    {
     "name": "stdout",
     "output_type": "stream",
     "text": [
      "   amount_tsh  gps_height  longitude  latitude  population  age region  \\\n",
      "0           0          10       35.0     -10.0         100    5      A   \n",
      "1          10          20       36.0      -9.0         200   10      B   \n",
      "2          20          30       37.0      -8.0         300   15      A   \n",
      "\n",
      "    installer  construction_year  construction_year_missing  \n",
      "0  Installer1                  0                       True  \n",
      "1  Installer2               2010                      False  \n",
      "2  Installer1                  0                       True  \n"
     ]
    }
   ],
   "source": [
    "data = {\n",
    "    'amount_tsh': [0, 10, 20],\n",
    "    'gps_height': [10, 20, 30],\n",
    "    'longitude': [35.0, 36.0, 37.0],\n",
    "    'latitude': [-10.0, -9.0, -8.0],\n",
    "    'population': [100, 200, 300],\n",
    "    'age': [5, 10, 15],  # Add more features as needed\n",
    "    'region': ['A', 'B', 'A'],\n",
    "    'installer': ['Installer1', 'Installer2', 'Installer1'],\n",
    "    'construction_year': [0, 2010, 0]\n",
    "}\n",
    "df = pd.DataFrame(data)\n",
    "\n",
    "# Create a new column 'construction_year_missing' to flag the missing years\n",
    "df['construction_year_missing'] = df['construction_year'] == 0\n",
    "\n",
    "# Display the updated DataFrame\n",
    "print(df)\n"
   ]
  },
  {
   "cell_type": "code",
   "execution_count": 30,
   "metadata": {},
   "outputs": [
    {
     "data": {
      "image/png": "[encoded data removed]",
      "text/plain": [
       "<Figure size 864x432 with 1 Axes>"
      ]
     },
     "metadata": {
      "needs_background": "light"
     },
     "output_type": "display_data"
    },
    {
     "data": {
      "image/png": "[encoded data removed]",
      "text/plain": [
       "<Figure size 576x288 with 1 Axes>"
      ]
     },
     "metadata": {
      "needs_background": "light"
     },
     "output_type": "display_data"
    }
   ],
   "source": [
    "# Plotting the construction_year distribution\n",
    "plt.figure(figsize=(12, 6))\n",
    "sns.histplot(df['construction_year'], bins=30, kde=True)\n",
    "plt.title('Distribution of Construction Year')\n",
    "plt.xlabel('Construction Year')\n",
    "plt.ylabel('Frequency')\n",
    "plt.show()\n",
    "\n",
    "# Plotting the construction_year_missing column\n",
    "plt.figure(figsize=(8, 4))\n",
    "sns.countplot(x='construction_year_missing', data=df)\n",
    "plt.title('Missing Construction Year')\n",
    "plt.xlabel('Construction Year Missing')\n",
    "plt.ylabel('Count')\n",
    "plt.xticks([0, 1], ['No', 'Yes'])\n",
    "plt.show()"
   ]
  },
  {
   "cell_type": "markdown",
   "metadata": {},
   "source": [
    "Came up with two graphical representations of both the construction year and the missing construction year."
   ]
  },
  {
   "cell_type": "markdown",
   "metadata": {},
   "source": [
    "### Population\n",
    "Let us take a look at the population so that we can compare with functionality of the wells and know whether it is a factor."
   ]
  },
  {
   "cell_type": "code",
   "execution_count": 31,
   "metadata": {},
   "outputs": [
    {
     "data": {
      "text/plain": [
       "0       21381\n",
       "1        7025\n",
       "200      1940\n",
       "150      1892\n",
       "250      1681\n",
       "        ...  \n",
       "3241        1\n",
       "1960        1\n",
       "1685        1\n",
       "2248        1\n",
       "1439        1\n",
       "Name: population, Length: 1049, dtype: int64"
      ]
     },
     "execution_count": 31,
     "metadata": {},
     "output_type": "execute_result"
    }
   ],
   "source": [
    "df_mode['population'].value_counts()"
   ]
  },
  {
   "cell_type": "code",
   "execution_count": 32,
   "metadata": {},
   "outputs": [
    {
     "data": {
      "text/html": [
       "<div>\n",
       "<style scoped>\n",
       "    .dataframe tbody tr th:only-of-type {\n",
       "        vertical-align: middle;\n",
       "    }\n",
       "\n",
       "    .dataframe tbody tr th {\n",
       "        vertical-align: top;\n",
       "    }\n",
       "\n",
       "    .dataframe thead th {\n",
       "        text-align: right;\n",
       "    }\n",
       "</style>\n",
       "<table border=\"1\" class=\"dataframe\">\n",
       "  <thead>\n",
       "    <tr style=\"text-align: right;\">\n",
       "      <th></th>\n",
       "      <th>amount_tsh</th>\n",
       "      <th>date_recorded</th>\n",
       "      <th>funder</th>\n",
       "      <th>gps_height</th>\n",
       "      <th>installer</th>\n",
       "      <th>longitude</th>\n",
       "      <th>latitude</th>\n",
       "      <th>wpt_name</th>\n",
       "      <th>basin</th>\n",
       "      <th>subvillage</th>\n",
       "      <th>...</th>\n",
       "      <th>payment_type</th>\n",
       "      <th>water_quality</th>\n",
       "      <th>quality_group</th>\n",
       "      <th>quantity</th>\n",
       "      <th>quantity_group</th>\n",
       "      <th>source</th>\n",
       "      <th>source_type</th>\n",
       "      <th>source_class</th>\n",
       "      <th>waterpoint_type</th>\n",
       "      <th>waterpoint_type_group</th>\n",
       "    </tr>\n",
       "    <tr>\n",
       "      <th>status_group</th>\n",
       "      <th></th>\n",
       "      <th></th>\n",
       "      <th></th>\n",
       "      <th></th>\n",
       "      <th></th>\n",
       "      <th></th>\n",
       "      <th></th>\n",
       "      <th></th>\n",
       "      <th></th>\n",
       "      <th></th>\n",
       "      <th></th>\n",
       "      <th></th>\n",
       "      <th></th>\n",
       "      <th></th>\n",
       "      <th></th>\n",
       "      <th></th>\n",
       "      <th></th>\n",
       "      <th></th>\n",
       "      <th></th>\n",
       "      <th></th>\n",
       "      <th></th>\n",
       "    </tr>\n",
       "  </thead>\n",
       "  <tbody>\n",
       "    <tr>\n",
       "      <th>functional</th>\n",
       "      <td>11274</td>\n",
       "      <td>11274</td>\n",
       "      <td>11274</td>\n",
       "      <td>11274</td>\n",
       "      <td>11274</td>\n",
       "      <td>11274</td>\n",
       "      <td>11274</td>\n",
       "      <td>11274</td>\n",
       "      <td>11274</td>\n",
       "      <td>11274</td>\n",
       "      <td>...</td>\n",
       "      <td>11274</td>\n",
       "      <td>11274</td>\n",
       "      <td>11274</td>\n",
       "      <td>11274</td>\n",
       "      <td>11274</td>\n",
       "      <td>11274</td>\n",
       "      <td>11274</td>\n",
       "      <td>11274</td>\n",
       "      <td>11274</td>\n",
       "      <td>11274</td>\n",
       "    </tr>\n",
       "    <tr>\n",
       "      <th>functional needs repair</th>\n",
       "      <td>1775</td>\n",
       "      <td>1775</td>\n",
       "      <td>1775</td>\n",
       "      <td>1775</td>\n",
       "      <td>1775</td>\n",
       "      <td>1775</td>\n",
       "      <td>1775</td>\n",
       "      <td>1775</td>\n",
       "      <td>1775</td>\n",
       "      <td>1775</td>\n",
       "      <td>...</td>\n",
       "      <td>1775</td>\n",
       "      <td>1775</td>\n",
       "      <td>1775</td>\n",
       "      <td>1775</td>\n",
       "      <td>1775</td>\n",
       "      <td>1775</td>\n",
       "      <td>1775</td>\n",
       "      <td>1775</td>\n",
       "      <td>1775</td>\n",
       "      <td>1775</td>\n",
       "    </tr>\n",
       "    <tr>\n",
       "      <th>non functional</th>\n",
       "      <td>8332</td>\n",
       "      <td>8332</td>\n",
       "      <td>8332</td>\n",
       "      <td>8332</td>\n",
       "      <td>8332</td>\n",
       "      <td>8332</td>\n",
       "      <td>8332</td>\n",
       "      <td>8332</td>\n",
       "      <td>8332</td>\n",
       "      <td>8332</td>\n",
       "      <td>...</td>\n",
       "      <td>8332</td>\n",
       "      <td>8332</td>\n",
       "      <td>8332</td>\n",
       "      <td>8332</td>\n",
       "      <td>8332</td>\n",
       "      <td>8332</td>\n",
       "      <td>8332</td>\n",
       "      <td>8332</td>\n",
       "      <td>8332</td>\n",
       "      <td>8332</td>\n",
       "    </tr>\n",
       "  </tbody>\n",
       "</table>\n",
       "<p>3 rows × 37 columns</p>\n",
       "</div>"
      ],
      "text/plain": [
       "                         amount_tsh  date_recorded  funder  gps_height  \\\n",
       "status_group                                                             \n",
       "functional                    11274          11274   11274       11274   \n",
       "functional needs repair        1775           1775    1775        1775   \n",
       "non functional                 8332           8332    8332        8332   \n",
       "\n",
       "                         installer  longitude  latitude  wpt_name  basin  \\\n",
       "status_group                                                               \n",
       "functional                   11274      11274     11274     11274  11274   \n",
       "functional needs repair       1775       1775      1775      1775   1775   \n",
       "non functional                8332       8332      8332      8332   8332   \n",
       "\n",
       "                         subvillage  ...  payment_type  water_quality  \\\n",
       "status_group                         ...                                \n",
       "functional                    11274  ...         11274          11274   \n",
       "functional needs repair        1775  ...          1775           1775   \n",
       "non functional                 8332  ...          8332           8332   \n",
       "\n",
       "                         quality_group  quantity  quantity_group  source  \\\n",
       "status_group                                                               \n",
       "functional                       11274     11274           11274   11274   \n",
       "functional needs repair           1775      1775            1775    1775   \n",
       "non functional                    8332      8332            8332    8332   \n",
       "\n",
       "                         source_type  source_class  waterpoint_type  \\\n",
       "status_group                                                          \n",
       "functional                     11274         11274            11274   \n",
       "functional needs repair         1775          1775             1775   \n",
       "non functional                  8332          8332             8332   \n",
       "\n",
       "                         waterpoint_type_group  \n",
       "status_group                                    \n",
       "functional                               11274  \n",
       "functional needs repair                   1775  \n",
       "non functional                            8332  \n",
       "\n",
       "[3 rows x 37 columns]"
      ]
     },
     "execution_count": 32,
     "metadata": {},
     "output_type": "execute_result"
    }
   ],
   "source": [
    "df_mode.loc[df_mode['population']==0].groupby('status_group').count()"
   ]
  },
  {
   "cell_type": "code",
   "execution_count": 33,
   "metadata": {},
   "outputs": [
    {
     "name": "stdout",
     "output_type": "stream",
     "text": [
      "Total number of people around the wells is 59400.0\n",
      "\n",
      "\n",
      "The average number of people living around the wells is 179.90998316498317\n",
      "\n",
      "\n",
      "The minimum population value is 0.0\n",
      "\n",
      "\n",
      "The maximum population value is 30500.0\n"
     ]
    }
   ],
   "source": [
    "pop = df_mode['population'].describe()\n",
    "print(\"Total number of people around the wells is\",pop[0])\n",
    "print(\"\\n\")\n",
    "print(\"The average number of people living around the wells is\",pop[1])\n",
    "print(\"\\n\")\n",
    "print(\"The minimum population value is\",pop[3])\n",
    "print(\"\\n\")\n",
    "print(\"The maximum population value is\",pop[7])"
   ]
  },
  {
   "cell_type": "markdown",
   "metadata": {},
   "source": [
    "### Water Quality."
   ]
  },
  {
   "cell_type": "code",
   "execution_count": 34,
   "metadata": {},
   "outputs": [
    {
     "data": {
      "text/plain": [
       "soft                  50818\n",
       "salty                  4856\n",
       "unknown                1876\n",
       "milky                   804\n",
       "coloured                490\n",
       "salty abandoned         339\n",
       "fluoride                200\n",
       "fluoride abandoned       17\n",
       "Name: water_quality, dtype: int64"
      ]
     },
     "execution_count": 34,
     "metadata": {},
     "output_type": "execute_result"
    }
   ],
   "source": [
    "df_mode['water_quality'].value_counts()\n"
   ]
  },
  {
   "cell_type": "code",
   "execution_count": 35,
   "metadata": {},
   "outputs": [
    {
     "data": {
      "image/png": "[encoded data removed]",
      "text/plain": [
       "<Figure size 864x720 with 1 Axes>"
      ]
     },
     "metadata": {
      "needs_background": "light"
     },
     "output_type": "display_data"
    }
   ],
   "source": [
    "\n",
    "plt.figure(figsize=(12,10))\n",
    "ax = sns.countplot(x='water_quality', hue=\"status_group\", data=df_mode)"
   ]
  },
  {
   "cell_type": "markdown",
   "metadata": {},
   "source": [
    "OR"
   ]
  },
  {
   "cell_type": "code",
   "execution_count": 36,
   "metadata": {},
   "outputs": [
    {
     "data": {
      "image/png": "[encoded data removed]",
      "text/plain": [
       "<Figure size 720x576 with 1 Axes>"
      ]
     },
     "metadata": {
      "needs_background": "light"
     },
     "output_type": "display_data"
    }
   ],
   "source": [
    "fig, ax = plt.subplots(figsize=(10,8))\n",
    "quality_count = train_df[\"water_quality\"].value_counts().sort_values(ascending=False).head(5)\n",
    "plt.bar(quality_count.index, quality_count.values)\n",
    "plt.xlabel(\"Quality of water\")\n",
    "plt.ylabel(\"Frequency\")\n",
    "plt.title(\"water quality in the wells\")\n",
    "sns.set_style(\"darkgrid\")\n",
    "plt.show()"
   ]
  },
  {
   "cell_type": "markdown",
   "metadata": {},
   "source": [
    "### Quantity"
   ]
  },
  {
   "cell_type": "code",
   "execution_count": 37,
   "metadata": {},
   "outputs": [
    {
     "data": {
      "text/plain": [
       "enough          33186\n",
       "insufficient    15129\n",
       "dry              6246\n",
       "seasonal         4050\n",
       "unknown           789\n",
       "Name: quantity, dtype: int64"
      ]
     },
     "execution_count": 37,
     "metadata": {},
     "output_type": "execute_result"
    }
   ],
   "source": [
    "df_mode['quantity'].value_counts()"
   ]
  },
  {
   "cell_type": "code",
   "execution_count": 38,
   "metadata": {},
   "outputs": [
    {
     "data": {
      "image/png": "[encoded data removed]",
      "text/plain": [
       "<Figure size 1152x576 with 1 Axes>"
      ]
     },
     "metadata": {},
     "output_type": "display_data"
    }
   ],
   "source": [
    "plt.figure(figsize=(16,8))\n",
    "ax = sns.countplot(x='quantity', hue=\"status_group\", data=df_mode)"
   ]
  },
  {
   "cell_type": "markdown",
   "metadata": {},
   "source": [
    "### Bivariate Analysis"
   ]
  },
  {
   "cell_type": "markdown",
   "metadata": {},
   "source": [
    "### Relationship between the population and the quantity"
   ]
  },
  {
   "cell_type": "code",
   "execution_count": 39,
   "metadata": {},
   "outputs": [
    {
     "data": {
      "text/plain": [
       "Text(0, 0.5, 'Population')"
      ]
     },
     "execution_count": 39,
     "metadata": {},
     "output_type": "execute_result"
    },
    {
     "data": {
      "image/png": "[encoded data removed]",
      "text/plain": [
       "<Figure size 864x432 with 1 Axes>"
      ]
     },
     "metadata": {},
     "output_type": "display_data"
    }
   ],
   "source": [
    "plt.figure(figsize=(12, 6))\n",
    "sns.barplot(x='quantity', y='population', data=df_mode)\n",
    "plt.title('Bar Plot of Population and Quantity Categories')\n",
    "plt.xlabel('Quantity')\n",
    "plt.ylabel('Population')"
   ]
  },
  {
   "cell_type": "markdown",
   "metadata": {},
   "source": [
    "Below is a scatterplot of the same."
   ]
  },
  {
   "cell_type": "code",
   "execution_count": 40,
   "metadata": {},
   "outputs": [
    {
     "data": {
      "image/png": "[encoded data removed]",
      "text/plain": [
       "<Figure size 720x432 with 1 Axes>"
      ]
     },
     "metadata": {},
     "output_type": "display_data"
    }
   ],
   "source": [
    "plt.figure(figsize=(10, 6))\n",
    "sns.scatterplot(data=df_mode, x='quantity', y='population')\n",
    "plt.title('Scatter Plot of Population vs Quantity')\n",
    "plt.xlabel('Quantity')\n",
    "plt.ylabel('Population')\n",
    "plt.show()"
   ]
  },
  {
   "cell_type": "markdown",
   "metadata": {},
   "source": [
    "### Relationship between amount_tsh and status"
   ]
  },
  {
   "cell_type": "code",
   "execution_count": 41,
   "metadata": {},
   "outputs": [
    {
     "data": {
      "image/png": "[encoded data removed]",
      "text/plain": [
       "<Figure size 1440x576 with 1 Axes>"
      ]
     },
     "metadata": {},
     "output_type": "display_data"
    }
   ],
   "source": [
    "bar, ax = plt.subplots(figsize=(20,8))\n",
    "ax = sns.countplot(data = df_mode, x=\"amount_tsh\", hue=\"status_group\")\n",
    "ax.set_title(\"Count Plot of amount_tsh and status\")\n",
    "sns.set_style(\"darkgrid\")"
   ]
  },
  {
   "cell_type": "code",
   "execution_count": 42,
   "metadata": {},
   "outputs": [
    {
     "data": {
      "image/png": "[encoded data removed]",
      "text/plain": [
       "<Figure size 864x576 with 1 Axes>"
      ]
     },
     "metadata": {},
     "output_type": "display_data"
    }
   ],
   "source": [
    "plt.figure(figsize=(12,8))\n",
    "sns.barplot(x='status_group', y='amount_tsh', data=df_mode)\n",
    "plt.title('Bar Plot of amount_tsh and status')\n",
    "plt.xlabel('Status group')\n",
    "plt.ylabel('Amount')\n",
    "plt.show()\n"
   ]
  },
  {
   "cell_type": "markdown",
   "metadata": {},
   "source": [
    "## Relationship between payment and status_group"
   ]
  },
  {
   "cell_type": "code",
   "execution_count": 43,
   "metadata": {},
   "outputs": [
    {
     "data": {
      "image/png": "[encoded data removed]",
      "text/plain": [
       "<Figure size 864x576 with 1 Axes>"
      ]
     },
     "metadata": {},
     "output_type": "display_data"
    }
   ],
   "source": [
    "#payment and status group\n",
    "ax, fig = plt.subplots(figsize=(12,8))\n",
    "ax = sns.countplot(data=df_mode, x=\"status_group\", hue=\"payment\")\n",
    "ax.set_title(\" payment and status group relation\")\n",
    "sns.set_style(\"darkgrid\")"
   ]
  },
  {
   "cell_type": "markdown",
   "metadata": {},
   "source": [
    "# Relationship between source type and population"
   ]
  },
  {
   "cell_type": "code",
   "execution_count": 44,
   "metadata": {},
   "outputs": [
    {
     "data": {
      "image/png": "[encoded data removed]",
      "text/plain": [
       "<Figure size 720x360 with 1 Axes>"
      ]
     },
     "metadata": {},
     "output_type": "display_data"
    }
   ],
   "source": [
    "plt.figure(figsize=(10,5))\n",
    "sns.barplot(x='source_type', y='population', data=df_mode)\n",
    "plt.title('Bar Plot of source and population')\n",
    "plt.xlabel('Source_Type')\n",
    "plt.ylabel('Population')\n",
    "plt.show()\n"
   ]
  },
  {
   "cell_type": "markdown",
   "metadata": {},
   "source": [
    "### Relationship between region and status group"
   ]
  },
  {
   "cell_type": "code",
   "execution_count": 45,
   "metadata": {},
   "outputs": [
    {
     "data": {
      "image/png": "[encoded data removed]",
      "text/plain": [
       "<Figure size 864x576 with 1 Axes>"
      ]
     },
     "metadata": {},
     "output_type": "display_data"
    }
   ],
   "source": [
    "\n",
    "plt.figure(figsize=(12, 8))\n",
    "sns.countplot(x='region', hue='status_group', data=df_mode)\n",
    "plt.title('Relationship between Region and Status Group')\n",
    "plt.xlabel('Region')\n",
    "plt.ylabel('Count')\n",
    "plt.xticks(rotation=45)\n",
    "plt.legend(title='Status Group')\n",
    "plt.show()"
   ]
  },
  {
   "cell_type": "markdown",
   "metadata": {},
   "source": [
    "## Mulitivariate Analysis"
   ]
  },
  {
   "cell_type": "markdown",
   "metadata": {},
   "source": [
    "### Relationship between source_type,population with respect to quantity "
   ]
  },
  {
   "cell_type": "code",
   "execution_count": 46,
   "metadata": {},
   "outputs": [
    {
     "data": {
      "image/png": "[encoded data removed]",
      "text/plain": [
       "<Figure size 864x576 with 1 Axes>"
      ]
     },
     "metadata": {},
     "output_type": "display_data"
    }
   ],
   "source": [
    "# Bar plot\n",
    "plt.figure(figsize=(12, 8))\n",
    "sns.barplot(x='quantity', y='population', hue='source_type', data=df_mode)\n",
    "plt.title('Relationship between Source Type, Population, and Quantity')\n",
    "plt.xlabel('Quantity')\n",
    "plt.ylabel('Population')\n",
    "plt.legend(title='Source Type')\n",
    "plt.show()"
   ]
  },
  {
   "cell_type": "markdown",
   "metadata": {},
   "source": [
    "### Relationship between status,population with respect to quantity "
   ]
  },
  {
   "cell_type": "code",
   "execution_count": 47,
   "metadata": {},
   "outputs": [
    {
     "data": {
      "image/png": "[encoded data removed]",
      "text/plain": [
       "<Figure size 864x576 with 1 Axes>"
      ]
     },
     "metadata": {},
     "output_type": "display_data"
    }
   ],
   "source": [
    "plt.figure(figsize=(12, 8))\n",
    "sns.barplot(x='status_group', y='population', hue='quantity', data=df_mode)\n",
    "plt.title('Relationship between Status Group, Population, and Quantity')\n",
    "plt.xlabel('Status_group')\n",
    "plt.ylabel('Population')\n",
    "plt.legend(title='Quantity')\n",
    "plt.show()\n"
   ]
  },
  {
   "cell_type": "markdown",
   "metadata": {},
   "source": [
    "## Findings\n",
    "1. Iringa is observed to be the region with the  highest number of functional water points.\n",
    "2. Many functional water points seem to be providing insufficent amounts of water.\n",
    "3. A lot of non-functional water sources are not paid for.\n",
    "4. Factors that contribute functionality of the water sources include:Region, source type and water quality.\n",
    "5. The functional water points wer the most populated.\n",
    "6. Many wells are found in areas that are highly populated."
   ]
  },
  {
   "cell_type": "markdown",
   "metadata": {},
   "source": [
    "## Modeling\n"
   ]
  },
  {
   "cell_type": "markdown",
   "metadata": {},
   "source": [
    "## Pre -Processing Data\n",
    "\n",
    " This involves cleaning, transforming, and preparing the data to make it suitable for analysis or feeding into machine learning algorithms."
   ]
  },
  {
   "cell_type": "code",
   "execution_count": 48,
   "metadata": {},
   "outputs": [
    {
     "data": {
      "text/plain": [
       "Index(['amount_tsh', 'date_recorded', 'funder', 'gps_height', 'installer',\n",
       "       'longitude', 'latitude', 'wpt_name', 'basin', 'subvillage', 'region',\n",
       "       'region_code', 'district_code', 'lga', 'ward', 'population',\n",
       "       'public_meeting', 'scheme_management', 'scheme_name', 'permit',\n",
       "       'construction_year', 'extraction_type', 'extraction_type_group',\n",
       "       'extraction_type_class', 'management', 'management_group', 'payment',\n",
       "       'payment_type', 'water_quality', 'quality_group', 'quantity',\n",
       "       'quantity_group', 'source', 'source_type', 'source_class',\n",
       "       'waterpoint_type', 'waterpoint_type_group', 'status_group'],\n",
       "      dtype='object')"
      ]
     },
     "execution_count": 48,
     "metadata": {},
     "output_type": "execute_result"
    }
   ],
   "source": [
    "df_mode = train_df.copy()\n",
    "df_mode.columns"
   ]
  },
  {
   "cell_type": "markdown",
   "metadata": {},
   "source": [
    "Drop unnecessary columns that will not be used in modelling."
   ]
  },
  {
   "cell_type": "code",
   "execution_count": 49,
   "metadata": {},
   "outputs": [],
   "source": [
    "df_mode.drop(columns=['date_recorded','funder','latitude','longitude','subvillage','lga','wpt_name','public_meeting','scheme_management','waterpoint_type_group','scheme_name','ward','construction_year','installer'],axis=1,inplace=True)"
   ]
  },
  {
   "cell_type": "code",
   "execution_count": 50,
   "metadata": {},
   "outputs": [
    {
     "data": {
      "text/plain": [
       "amount_tsh                float64\n",
       "gps_height                  int64\n",
       "basin                    category\n",
       "region                   category\n",
       "region_code              category\n",
       "district_code            category\n",
       "population                  int64\n",
       "permit                       bool\n",
       "extraction_type            object\n",
       "extraction_type_group      object\n",
       "extraction_type_class      object\n",
       "management                 object\n",
       "management_group           object\n",
       "payment                    object\n",
       "payment_type             category\n",
       "water_quality            category\n",
       "quality_group              object\n",
       "quantity                 category\n",
       "quantity_group             object\n",
       "source                   category\n",
       "source_type                object\n",
       "source_class               object\n",
       "waterpoint_type          category\n",
       "status_group               object\n",
       "dtype: object"
      ]
     },
     "execution_count": 50,
     "metadata": {},
     "output_type": "execute_result"
    }
   ],
   "source": [
    "df_mode.dtypes"
   ]
  },
  {
   "cell_type": "markdown",
   "metadata": {},
   "source": [
    "We will go ahead and carry out train and test split"
   ]
  },
  {
   "cell_type": "code",
   "execution_count": 51,
   "metadata": {},
   "outputs": [
    {
     "name": "stdout",
     "output_type": "stream",
     "text": [
      "X_train shape: (47520, 23)\n",
      "X_test shape: (11880, 23)\n",
      "y_train shape: (47520,)\n",
      "y_test shape: (11880,)\n"
     ]
    }
   ],
   "source": [
    "from sklearn.model_selection import train_test_split\n",
    "\n",
    "# Define the target variable 'y'\n",
    "y = df_mode['status_group']\n",
    "\n",
    "# Define the feature variables 'X' by dropping the target column\n",
    "X = df_mode.drop('status_group', axis=1)\n",
    "\n",
    "# Perform train-test split\n",
    "X_train, X_test, y_train, y_test = train_test_split(X, y, test_size=0.2, random_state=42)\n",
    "\n",
    "#  shapes of the resulting datasets\n",
    "print(\"X_train shape:\", X_train.shape)\n",
    "print(\"X_test shape:\", X_test.shape)\n",
    "print(\"y_train shape:\", y_train.shape)\n",
    "print(\"y_test shape:\", y_test.shape)\n"
   ]
  },
  {
   "cell_type": "code",
   "execution_count": 52,
   "metadata": {},
   "outputs": [
    {
     "name": "stdout",
     "output_type": "stream",
     "text": [
      "X_train shape: (47520, 201)\n",
      "X_test shape: (11880, 201)\n",
      "y_train shape: (47520,)\n",
      "y_test shape: (11880,)\n"
     ]
    }
   ],
   "source": [
    "# One-hot encode categorical variables\n",
    "df_encoded = pd.get_dummies(df_mode.drop('status_group', axis=1))\n",
    "\n",
    "# Define the target variable 'y'\n",
    "y = df_mode['status_group']\n",
    "\n",
    "# Use the encoded DataFrame as features 'X'\n",
    "X = df_encoded\n",
    "\n",
    "# Perform train-test split\n",
    "X_train, X_test, y_train, y_test = train_test_split(X, y, test_size=0.2, random_state=42)\n",
    "\n",
    "# Display the shapes of the resulting datasets\n",
    "print(\"X_train shape:\", X_train.shape)\n",
    "print(\"X_test shape:\", X_test.shape)\n",
    "print(\"y_train shape:\", y_train.shape)\n",
    "print(\"y_test shape:\", y_test.shape)\n"
   ]
  },
  {
   "cell_type": "markdown",
   "metadata": {},
   "source": [
    "\n",
    "## Encoding\n",
    "We will go ahead and create dummy variables or carry out one-hot-encoding for categorical columns in both datsets,the testing and training and ensure that both datsets have columns that are consistent."
   ]
  },
  {
   "cell_type": "code",
   "execution_count": 53,
   "metadata": {},
   "outputs": [
    {
     "name": "stdout",
     "output_type": "stream",
     "text": [
      "X_train_encoded shape: (47520, 201)\n",
      "X_test_encoded shape: (11880, 201)\n",
      "y_train shape: (47520,)\n",
      "y_test shape: (11880,)\n"
     ]
    }
   ],
   "source": [
    "# Create dummy variables for both training and testing data\n",
    "X_train_encoded = pd.get_dummies(X_train)\n",
    "X_test_encoded = pd.get_dummies(X_test)\n",
    "\n",
    "# Align the columns of X_train and X_test to ensure they have the same columns\n",
    "X_train_encoded, X_test_encoded = X_train_encoded.align(X_test_encoded, join='outer', axis=1, fill_value=0)\n",
    "\n",
    "# Display the shapes of the resulting datasets\n",
    "print(\"X_train_encoded shape:\", X_train_encoded.shape)\n",
    "print(\"X_test_encoded shape:\", X_test_encoded.shape)\n",
    "print(\"y_train shape:\", y_train.shape)\n",
    "print(\"y_test shape:\", y_test.shape)"
   ]
  },
  {
   "cell_type": "markdown",
   "metadata": {},
   "source": [
    "They have shown they have consistent columns so we will go ahead and start building and evaluating machine learning models."
   ]
  },
  {
   "cell_type": "markdown",
   "metadata": {},
   "source": [
    "## Scaling\n",
    "Important step especially for algorithms in machine learning that are sensitive to scale of the data i.e KNN, RandomForest.\n"
   ]
  },
  {
   "cell_type": "code",
   "execution_count": 54,
   "metadata": {},
   "outputs": [
    {
     "name": "stdout",
     "output_type": "stream",
     "text": [
      "X_train_scaled shape: (47520, 201)\n",
      "X_test_scaled shape: (11880, 201)\n"
     ]
    }
   ],
   "source": [
    "# Instantiate the scaler\n",
    "scaler = StandardScaler()\n",
    "\n",
    "# Fit the scaler and transform the training data\n",
    "X_train_scaled = scaler.fit_transform(X_train_encoded)\n",
    "\n",
    "# Transform the test data\n",
    "X_test_scaled = scaler.transform(X_test_encoded)\n",
    "\n",
    "# Output the shapes to verify\n",
    "print(\"X_train_scaled shape:\", X_train_scaled.shape)\n",
    "print(\"X_test_scaled shape:\", X_test_scaled.shape)\n"
   ]
  },
  {
   "cell_type": "markdown",
   "metadata": {},
   "source": [
    "'StandardScaler' standardizes features by removing the mean and scaling it to unit variance"
   ]
  },
  {
   "cell_type": "markdown",
   "metadata": {},
   "source": [
    "## Label Encoding\n",
    "Involves converting categorical data into numerical values and here each unique category is assigned an interger value."
   ]
  },
  {
   "cell_type": "code",
   "execution_count": 55,
   "metadata": {},
   "outputs": [],
   "source": [
    "from sklearn.preprocessing import LabelEncoder\n",
    "l_encoder = LabelEncoder()\n",
    "\n",
    "# Fit encoder on  target variable and transform it\n",
    "y_encoded = l_encoder.fit_transform(y_train)\n",
    "y_encoded = l_encoder.transform(y_test)\n"
   ]
  },
  {
   "cell_type": "code",
   "execution_count": 56,
   "metadata": {},
   "outputs": [],
   "source": [
    "# Fit encoder on the features in X\n",
    "categorical_cols = X.select_dtypes(include=['category', 'object']).columns\n",
    "\n",
    "# Apply label encoding to each categorical feature in the training and test sets\n",
    "for col in categorical_cols:\n",
    "    l_encoder = LabelEncoder()\n",
    "    X_train[col] = l_encoder.fit_transform(X_train[col])\n",
    "    X_test[col] = l_encoder.transform(X_test[col])"
   ]
  },
  {
   "cell_type": "code",
   "execution_count": 57,
   "metadata": {},
   "outputs": [
    {
     "name": "stdout",
     "output_type": "stream",
     "text": [
      "Shape of X_train_resampled: (16245, 201)\n",
      "Shape of y_train_resampled: (16245,)\n"
     ]
    }
   ],
   "source": [
    "from imblearn.over_sampling import SMOTE\n",
    "from sklearn.preprocessing import LabelEncoder\n",
    "\n",
    "# Instantiate SMOTE\n",
    "smote = SMOTE(random_state=42)\n",
    "\n",
    "# Use a smaller subset of the data for testing\n",
    "X_train_subset = X_train_scaled[:10000]\n",
    "y_train_subset = y_encoded[:10000]\n",
    "\n",
    "# Apply SMOTE to the subset\n",
    "X_train_resampled, y_train_resampled = smote.fit_resample(X_train_subset, y_train_subset)\n",
    "\n",
    "print(f\"Shape of X_train_resampled: {X_train_resampled.shape}\")\n",
    "print(f\"Shape of y_train_resampled: {y_train_resampled.shape}\")\n",
    "\n",
    "\n"
   ]
  },
  {
   "cell_type": "markdown",
   "metadata": {},
   "source": [
    "Let us look at the accuracy:"
   ]
  },
  {
   "cell_type": "markdown",
   "metadata": {},
   "source": [
    "This section here is meant to determine most suitable machine learning model.\n",
    "1. Logistic regression\n",
    "2. Decision Tree\n",
    "3. KNearest Neighbours\n",
    "4. Random Forest"
   ]
  },
  {
   "cell_type": "markdown",
   "metadata": {},
   "source": [
    "## Building base models"
   ]
  },
  {
   "cell_type": "code",
   "execution_count": 58,
   "metadata": {},
   "outputs": [],
   "source": [
    "from sklearn.ensemble import RandomForestClassifier\n",
    "from sklearn.linear_model import LogisticRegression\n",
    "from sklearn.neighbors import KNeighborsClassifier\n",
    "from sklearn.tree import DecisionTreeClassifier\n",
    "\n",
    "randomforest = RandomForestClassifier(random_state = 42)\n",
    "knn = KNeighborsClassifier()\n",
    "logistic_model = LogisticRegression(random_state = 42)\n",
    "decisiontree = DecisionTreeClassifier(random_state = 42)\n"
   ]
  },
  {
   "cell_type": "code",
   "execution_count": 59,
   "metadata": {},
   "outputs": [
    {
     "name": "stderr",
     "output_type": "stream",
     "text": [
      "/Users/mac/anaconda3/envs/learn-env/lib/python3.8/site-packages/sklearn/linear_model/_logistic.py:762: ConvergenceWarning: lbfgs failed to converge (status=1):\n",
      "STOP: TOTAL NO. of ITERATIONS REACHED LIMIT.\n",
      "\n",
      "Increase the number of iterations (max_iter) or scale the data as shown in:\n",
      "    https://scikit-learn.org/stable/modules/preprocessing.html\n",
      "Please also refer to the documentation for alternative solver options:\n",
      "    https://scikit-learn.org/stable/modules/linear_model.html#logistic-regression\n",
      "  n_iter_i = _check_optimize_result(\n"
     ]
    }
   ],
   "source": [
    "accuracy_train = []\n",
    "accuracy_test = []\n",
    "models = [randomforest,logistic_model, decisiontree, knn]\n",
    "for i in models:\n",
    "    i = i.fit(X_train_resampled, y_train_resampled)\n",
    "    ytrain_pred = i.predict(X_train_resampled)\n",
    "    ytest_pred = i.predict(X_test_scaled)\n",
    "    accuracy_train.append(accuracy_score(ytrain_pred, y_train_resampled))\n",
    "    accuracy_test.append(accuracy_score(ytest_pred, y_encoded))"
   ]
  },
  {
   "cell_type": "code",
   "execution_count": 61,
   "metadata": {},
   "outputs": [
    {
     "data": {
      "text/plain": [
       "[0.9378885811018774,\n",
       " 0.42179132040627887,\n",
       " 0.9378885811018774,\n",
       " 0.723237919359803]"
      ]
     },
     "execution_count": 61,
     "metadata": {},
     "output_type": "execute_result"
    }
   ],
   "source": [
    "accuracy_train"
   ]
  },
  {
   "cell_type": "code",
   "execution_count": 62,
   "metadata": {},
   "outputs": [
    {
     "data": {
      "text/plain": [
       "[0.4558922558922559,\n",
       " 0.3538720538720539,\n",
       " 0.4436026936026936,\n",
       " 0.42163299663299664]"
      ]
     },
     "execution_count": 62,
     "metadata": {},
     "output_type": "execute_result"
    }
   ],
   "source": [
    "accuracy_test"
   ]
  },
  {
   "cell_type": "markdown",
   "metadata": {},
   "source": [
    " Accuracies test:\n",
    "RandomForest: 0.4559 (45.59%)\n",
    "LogisticRegression: 0.3539 (35.39%)\n",
    "DecisionTree: 0.4436 (44.36%)\n",
    "KNeighbors: 0.4216 (42.16%)\n",
    "\n",
    " Accuracies Train:\n",
    "RandomForest: 0.9379 (93.79%)\n",
    "LogisticRegression: 0.4218 (42.18%)\n",
    "DecisionTree: 0.9379 (93.79%)\n",
    "KNeighbors: 0.7232 (72.32%)\n"
   ]
  },
  {
   "cell_type": "markdown",
   "metadata": {},
   "source": [
    "This shows that our models are overfitting,underfitting and performing incosistently. We can improve perfromance of our models by implementing Gradient Boosting."
   ]
  },
  {
   "cell_type": "code",
   "execution_count": 65,
   "metadata": {},
   "outputs": [
    {
     "name": "stdout",
     "output_type": "stream",
     "text": [
      "Gradient Training Accuracy: 0.6302\n",
      "Gradient Test Accuracy: 0.5339\n",
      "Classification Report for Gradient Boosting on Test Set\n",
      "              precision    recall  f1-score   support\n",
      "\n",
      "           0       0.57      0.77      0.65      6457\n",
      "           1       0.08      0.02      0.03       851\n",
      "           2       0.46      0.30      0.36      4572\n",
      "\n",
      "    accuracy                           0.53     11880\n",
      "   macro avg       0.37      0.36      0.35     11880\n",
      "weighted avg       0.49      0.53      0.50     11880\n",
      "\n"
     ]
    },
    {
     "data": {
      "image/png": "[encoded data removed]",
      "text/plain": [
       "<Figure size 72x504 with 2 Axes>"
      ]
     },
     "metadata": {},
     "output_type": "display_data"
    }
   ],
   "source": [
    "from sklearn.ensemble import GradientBoostingClassifier\n",
    "from sklearn.metrics import accuracy_score, classification_report, confusion_matrix\n",
    "import seaborn as sns\n",
    "import matplotlib.pyplot as plt\n",
    "\n",
    "# train the Gradient Boosting Classifier\n",
    "gradient_b = GradientBoostingClassifier(random_state=42)\n",
    "gradient_b.fit(X_train_resampled, y_train_resampled)\n",
    "\n",
    "# Predict on training and test sets\n",
    "gradient_train_preds = gradient_b.predict(X_train_resampled)\n",
    "gradient_test_preds = gradient_b.predict(X_test_scaled)\n",
    "\n",
    "# Calculate accuracy for training and test sets\n",
    "gradient_train_accuracy = accuracy_score(y_train_resampled, gradient_train_preds)\n",
    "gradient_test_accuracy = accuracy_score(y_encoded, gradient_test_preds)\n",
    "\n",
    "print(f\"Gradient Training Accuracy: {gradient_train_accuracy:.4f}\")\n",
    "print(f\"Gradient Test Accuracy: {gradient_test_accuracy:.4f}\")\n",
    "\n",
    "# Classification report\n",
    "print(\"Classification Report for Gradient Boosting on Test Set\")\n",
    "print(classification_report(y_encoded, gradient_test_preds))\n",
    "\n",
    "# Plot confusion matrix\n",
    "def plot_confusion_matrix(y_true, y_pred, model_name):\n",
    "    cm = confusion_matrix(y_true, y_pred)\n",
    "    plt.figure(figsize=(1, 7))\n",
    "    sns.heatmap(cm, annot=True, fmt='d', cmap='Oranges')\n",
    "    plt.xlabel('Predicted')\n",
    "    plt.ylabel('Actual')\n",
    "    plt.title(f'Confusion Matrix for {model_name}')\n",
    "    plt.show()\n",
    "\n",
    "plot_confusion_matrix(y_encoded, gradient_test_preds, 'Gradient Boosting Classifier')\n"
   ]
  },
  {
   "cell_type": "markdown",
   "metadata": {},
   "source": [
    "Compared to previous models Gradient Boosting Classifier provides a more balanced performance in testing and training accuracy.\n",
    "\n",
    "Training Accuracy: 63.02%\n",
    "Test Accuracy: 53.39%"
   ]
  },
  {
   "cell_type": "code",
   "execution_count": 66,
   "metadata": {},
   "outputs": [],
   "source": [
    "from sklearn.ensemble import GradientBoostingClassifier\n",
    "from sklearn.model_selection import GridSearchCV\n",
    "\n",
    "# Define the parameter grid for Gradient Boosting\n",
    "param_grid = {\n",
    "    'n_estimators': [100, 200, 300],\n",
    "    'learning_rate': [0.01, 0.1, 0.05],\n",
    "    'max_depth': [3, 4, 5],\n",
    "    'min_samples_split': [2, 5, 10],\n",
    "    'min_samples_leaf': [1, 2, 4],\n",
    "    'subsample': [0.8, 1.0]\n",
    "}\n",
    "\n",
    "# Instantiate the Gradient Boosting Classifier\n",
    "gradient_b = GradientBoostingClassifier(random_state=42)\n",
    "\n",
    "# Perform Grid Search with Cross-Validation\n",
    "grid_search = GridSearchCV(estimator=gradient_b, param_grid=param_grid, cv=5, n_jobs=-1, scoring='accuracy')\n",
    "grid_search.fit(X_train_resampled, y_train_resampled)\n",
    "\n",
    "# Get the best parameters and best score\n",
    "best_params = grid_search.best_params_\n",
    "best_score = grid_search.best_score_\n",
    "\n",
    "print(\"Best Parameters:\", best_params)\n",
    "print(\"Best Cross-Validation Score:\", best_score)\n",
    "\n",
    "# Evaluate the best model on the test set\n",
    "best_gradient_b_model = grid_search.best_estimator_\n",
    "test_predictions = best_gradient_b_model.predict(X_test_scaled)\n",
    "accuracy_test = accuracy_score(y_encoded, test_predictions)\n",
    "\n",
    "print(\"Test Accuracy with Best Gradient Boosting Model:\", accuracy_test)\n",
    "\n",
    "# Classification report\n",
    "print(classification_report(y_encoded, test_predictions))\n"
   ]
  },
  {
   "cell_type": "markdown",
   "metadata": {},
   "source": [
    "## Evaluation \n",
    "The best working model in our case was Gradient Boosting since it training and testing accuracy values were not far apart as compared to other models. This model shows that there is balance between avoiding overfitting and underfitting ."
   ]
  },
  {
   "cell_type": "markdown",
   "metadata": {},
   "source": [
    "## Conclusion\n",
    "Gradient Boosting model should be used because of balance."
   ]
  },
  {
   "cell_type": "markdown",
   "metadata": {},
   "source": [
    "## Recommendations\n",
    "1. The government of Tanzania and other top financiers being the main funders should be approached to fund for repairs and also add more water wells.\n",
    "2. For the people to enjoy or have water the government should impose a rule where it will be mandatory for them to pay since it has being observed that there are many functional where they are paid for.\n",
    "\n",
    " "
   ]
  },
  {
   "cell_type": "markdown",
   "metadata": {},
   "source": []
  }
 ],
 "metadata": {
  "kernelspec": {
   "display_name": "Python",
   "language": "python",
   "name": "learn-env"
  },
  "language_info": {
   "codemirror_mode": {
    "name": "ipython",
    "version": 3
   },
   "file_extension": ".py",
   "mimetype": "text/x-python",
   "name": "python",
   "nbconvert_exporter": "python",
   "pygments_lexer": "ipython3",
   "version": "3.8.5"
  }
 },
 "nbformat": 4,
 "nbformat_minor": 2
}
