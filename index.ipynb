{
 "cells": [
  {
   "cell_type": "markdown",
   "metadata": {},
   "source": [
    "## Tanzania Water Wells."
   ]
  },
  {
   "cell_type": "markdown",
   "metadata": {},
   "source": [
    "\n",
    "\n",
    "# Overview\n",
    "## Business Understanding"
   ]
  },
  {
   "cell_type": "markdown",
   "metadata": {},
   "source": [
    "Tanzania is known to be a well developing nation with a population of approximaltely 60 milion people.Millions of people in Tanzania, struggle to get clean water and are forced to cover very long distances in search of clean water. Wells are the main source of water for most Tanzanians,however many are broken or in bad shape. This shortage of water is a major issue as water is an essential in various sectors,leading to poor health,slow economic growth and hindered productivity.\n",
    "This projects with the use of machine learning tools aims at identifying why some wells fail,predict whether the new wells will work . "
   ]
  },
  {
   "cell_type": "markdown",
   "metadata": {},
   "source": [
    "# . Challenges .\n",
    "1. The population of some areas is relatively high as compared to access of water.\n",
    "2. Poor water quality resulting to diseases.\n",
    "3. Insufficient funding for the maintainance and also development.\n",
    "4. Climate change\n"
   ]
  },
  {
   "cell_type": "markdown",
   "metadata": {},
   "source": [
    "##  Problem Statement"
   ]
  },
  {
   "cell_type": "markdown",
   "metadata": {},
   "source": [
    "Water shortage is a crucial problem in Tanzania and this arises majorly from the maintenance of wells.Maintaning these water sources is also a challenge maybe because of water quality,geographical location,infrastracture upkeep and many other factors. Some are non-functonal while others are partially functional.This may limit the local citizens from accessing clean water.\n",
    "Challenges faced include: Health and sanitation issues,Poor economic growth and hindered productivity.\n",
    "\n",
    "Our project here aims to help those who are in charge of water be it governmeantal ,non-governmental organisations and maybe policymakers to make improved or better decisions that would help in improvement of the functionality and maintenance of water wells in the country."
   ]
  },
  {
   "cell_type": "markdown",
   "metadata": {},
   "source": [
    "## 1.3 Objective"
   ]
  },
  {
   "cell_type": "markdown",
   "metadata": {},
   "source": [
    "The objective of our project is come up with a prdeictive model that will determine functionality of water wells accurately.Using the data provided and making use of our knowledge in data science, our project focuses on addressing the challenge of the non-funcionality of the wells,improving access to clean water for the people.\n",
    "Focus of our project is:\n",
    "1. Identifying key factors that may contribute to functionality of waterwells in Tanzania.\n",
    "2. Developing a predictive model that can predict functionality of water wells based on attributes such as geographical location,infrastracture and water quality.\n",
    "3. Enable data-driven decision making.\n",
    "4. provide recommendations that can boost on the efforts for maintenance"
   ]
  },
  {
   "cell_type": "markdown",
   "metadata": {},
   "source": [
    "## Specific Objectives\n",
    "1. determine if functionality of the wells varies on quantity.\n",
    "2. Identify the most popular water point type.\n",
    "3. Determine whether the status of functionality is related to the payment type.\n"
   ]
  },
  {
   "cell_type": "markdown",
   "metadata": {},
   "source": [
    "##  Main objective\n",
    "\n",
    "Build a classifier model that will determine functionality of waterwells accurately."
   ]
  },
  {
   "cell_type": "markdown",
   "metadata": {},
   "source": [
    "## Success Metrics\n",
    "Provide 70 % and above accuracy on wells functionality."
   ]
  },
  {
   "cell_type": "markdown",
   "metadata": {},
   "source": [
    "## Data Understanding"
   ]
  },
  {
   "cell_type": "markdown",
   "metadata": {},
   "source": [
    "We start by describing our data."
   ]
  },
  {
   "cell_type": "markdown",
   "metadata": {},
   "source": [
    "\n",
    "## Data Sources\n",
    "\n",
    "Got this data provided from Taarifa and the Tanzanian Ministry of Water.It is organized into three separate CSV files: https://www.drivendata.org/competitions/7/pump-it-up-data-mining-the-water-table/data/\n",
    "\n",
    "1. Test Set Values\n",
    "2. Training Set Labels\n",
    "3. Training Set Values"
   ]
  },
  {
   "cell_type": "markdown",
   "metadata": {},
   "source": [
    "The labels in this dataset\n",
    "The labels in this dataset are simple. There are three possible values:\n",
    "\n",
    "1. functional - the waterpoint is operational and there are no repairs needed\n",
    "\n",
    "2. functional needs repair - the waterpoint is operational, but needs repairs\n",
    "3. non functional - the waterpoint is not operational"
   ]
  },
  {
   "cell_type": "markdown",
   "metadata": {},
   "source": [
    "The predictor variables in this data include:\n",
    "\n",
    "1.  amount_tsh - Total static head (amount water available to wterpoint)\n",
    "2. date_recorded - The date the row was entered\n",
    "3. funder - Who funded the well\n",
    "4. gps_height - Altitude of the well\n",
    "5. installer - Organization that installed the well\n",
    "6. longitude - GPS coordinate\n",
    "7. latitude - GPS coordinate\n",
    "8. wpt_name - Name of the waterpoint if there is one\n",
    "9. num_private - Number of households with private access to the well\n",
    "10. basin - Geographic water basin\n",
    "11. subvillage - Geographic location\n",
    "12. region - Geographic location\n",
    "13. region_code - Geographic location \n",
    "14. district_code - Geographic location \n",
    "15. lga - Geographic location\n",
    "16. ward - Geographic location\n",
    "17. population - Population around the well\n",
    "18. public_meeting - True/False\n",
    "19. recorded_by - Group entering this row of data\n",
    "20. scheme_management - Who operates the waterpoint\n",
    "21. scheme_name - Who operates the waterpoint\n",
    "22. permit - If the waterpoint is permitted\n",
    "23. construction_year - Year the waterpoint was constructed\n",
    "24. extraction_type - The kind of extraction the waterpoint uses\n",
    "25. extraction_type_group - The kind of extraction the waterpoint uses\n",
    "26. extraction_type_class - The kind of extraction the waterpoint uses\n",
    "27. management - How the waterpoint is managed\n",
    "28. management_group - How the waterpoint is managed\n",
    "29. payment - What the water costs\n",
    "30. payment_type - What the water costs\n",
    "31. water_quality - The quality of the water\n",
    "32. quality_group - The quality of the water\n",
    "33. quantity - The quantity of water\n",
    "34. quantity_group - The quantity of water\n",
    "35. source - The source of the water\n",
    "36. source_type - The source of the water\n",
    "37. source_class - The source of the water\n",
    "38. waterpoint_type - The kind of waterpoint\n",
    "39. waterpoint_type_group - The kind of waterpoint\n"
   ]
  },
  {
   "cell_type": "markdown",
   "metadata": {},
   "source": [
    "Since we have described our data already,we will go ahead and import the relevant libraries and load our data."
   ]
  },
  {
   "cell_type": "code",
   "execution_count": 70,
   "metadata": {},
   "outputs": [],
   "source": [
    "#import the relevant libraries\n",
    "import pandas as pd\n",
    "import numpy as np\n",
    "import seaborn as sns\n",
    "import statsmodels.api as sm\n",
    "import matplotlib.pyplot as plt\n",
    "%matplotlib inline \n",
    "from scipy.stats import norm\n",
    "from scipy import stats\n",
    "from sklearn.model_selection import train_test_split\n",
    "from sklearn.neighbors import KNeighborsClassifier\n",
    "from sklearn.ensemble import RandomForestClassifier\n",
    "from sklearn.tree import DecisionTreeClassifier\n",
    "from sklearn.model_selection import GridSearchCV\n",
    "from sklearn.preprocessing import StandardScaler\n",
    "from sklearn import metrics\n",
    "from sklearn.metrics import accuracy_score\n",
    "from sklearn.metrics import accuracy_score, precision_score, recall_score, f1_score"
   ]
  },
  {
   "cell_type": "markdown",
   "metadata": {},
   "source": [
    "We are going to go ahead and load our datasets "
   ]
  },
  {
   "cell_type": "code",
   "execution_count": 71,
   "metadata": {},
   "outputs": [],
   "source": [
    "# Loading the datasets\n",
    "training_data = pd.read_csv(\"Training_Set_values.csv\")\n",
    "testing_data = pd.read_csv(\"Test_set.csv\")\n",
    "training_labels = pd.read_csv(\"Training_Set_labels.csv\")\n"
   ]
  },
  {
   "cell_type": "code",
   "execution_count": 72,
   "metadata": {},
   "outputs": [
    {
     "name": "stdout",
     "output_type": "stream",
     "text": [
      "          id  amount_tsh date_recorded           funder  gps_height  \\\n",
      "0      69572      6000.0    2011-03-14            Roman        1390   \n",
      "1       8776         0.0    2013-03-06          Grumeti        1399   \n",
      "2      34310        25.0    2013-02-25     Lottery Club         686   \n",
      "3      67743         0.0    2013-01-28           Unicef         263   \n",
      "4      19728         0.0    2011-07-13      Action In A           0   \n",
      "...      ...         ...           ...              ...         ...   \n",
      "59395  60739        10.0    2013-05-03  Germany Republi        1210   \n",
      "59396  27263      4700.0    2011-05-07      Cefa-njombe        1212   \n",
      "59397  37057         0.0    2011-04-11              NaN           0   \n",
      "59398  31282         0.0    2011-03-08            Malec           0   \n",
      "59399  26348         0.0    2011-03-23       World Bank         191   \n",
      "\n",
      "          installer  longitude   latitude              wpt_name  num_private  \\\n",
      "0             Roman  34.938093  -9.856322                  none            0   \n",
      "1           GRUMETI  34.698766  -2.147466              Zahanati            0   \n",
      "2      World vision  37.460664  -3.821329           Kwa Mahundi            0   \n",
      "3            UNICEF  38.486161 -11.155298  Zahanati Ya Nanyumbu            0   \n",
      "4           Artisan  31.130847  -1.825359               Shuleni            0   \n",
      "...             ...        ...        ...                   ...          ...   \n",
      "59395           CES  37.169807  -3.253847   Area Three Namba 27            0   \n",
      "59396          Cefa  35.249991  -9.070629     Kwa Yahona Kuvala            0   \n",
      "59397           NaN  34.017087  -8.750434               Mashine            0   \n",
      "59398          Musa  35.861315  -6.378573                Mshoro            0   \n",
      "59399         World  38.104048  -6.747464       Kwa Mzee Lugawa            0   \n",
      "\n",
      "       ... water_quality quality_group      quantity  quantity_group  \\\n",
      "0      ...          soft          good        enough          enough   \n",
      "1      ...          soft          good  insufficient    insufficient   \n",
      "2      ...          soft          good        enough          enough   \n",
      "3      ...          soft          good           dry             dry   \n",
      "4      ...          soft          good      seasonal        seasonal   \n",
      "...    ...           ...           ...           ...             ...   \n",
      "59395  ...          soft          good        enough          enough   \n",
      "59396  ...          soft          good        enough          enough   \n",
      "59397  ...      fluoride      fluoride        enough          enough   \n",
      "59398  ...          soft          good  insufficient    insufficient   \n",
      "59399  ...         salty         salty        enough          enough   \n",
      "\n",
      "                     source           source_type source_class  \\\n",
      "0                    spring                spring  groundwater   \n",
      "1      rainwater harvesting  rainwater harvesting      surface   \n",
      "2                       dam                   dam      surface   \n",
      "3               machine dbh              borehole  groundwater   \n",
      "4      rainwater harvesting  rainwater harvesting      surface   \n",
      "...                     ...                   ...          ...   \n",
      "59395                spring                spring  groundwater   \n",
      "59396                 river            river/lake      surface   \n",
      "59397           machine dbh              borehole  groundwater   \n",
      "59398          shallow well          shallow well  groundwater   \n",
      "59399          shallow well          shallow well  groundwater   \n",
      "\n",
      "                   waterpoint_type waterpoint_type_group    status_group  \n",
      "0               communal standpipe    communal standpipe      functional  \n",
      "1               communal standpipe    communal standpipe      functional  \n",
      "2      communal standpipe multiple    communal standpipe      functional  \n",
      "3      communal standpipe multiple    communal standpipe  non functional  \n",
      "4               communal standpipe    communal standpipe      functional  \n",
      "...                            ...                   ...             ...  \n",
      "59395           communal standpipe    communal standpipe      functional  \n",
      "59396           communal standpipe    communal standpipe      functional  \n",
      "59397                    hand pump             hand pump      functional  \n",
      "59398                    hand pump             hand pump      functional  \n",
      "59399                    hand pump             hand pump      functional  \n",
      "\n",
      "[59400 rows x 41 columns]\n"
     ]
    }
   ],
   "source": [
    "# concatenating train_labels and data\n",
    "train_df = pd.concat([training_data, training_labels],axis=1)\n",
    "\n",
    "# merging the data sets\n",
    "train_df = training_data.merge(training_labels, how = \"inner\")\n",
    "\n",
    "print(train_df)\n",
    "\n"
   ]
  },
  {
   "cell_type": "code",
   "execution_count": 73,
   "metadata": {},
   "outputs": [
    {
     "name": "stdout",
     "output_type": "stream",
     "text": [
      "<class 'pandas.core.frame.DataFrame'>\n",
      "Int64Index: 59400 entries, 0 to 59399\n",
      "Data columns (total 41 columns):\n",
      " #   Column                 Non-Null Count  Dtype  \n",
      "---  ------                 --------------  -----  \n",
      " 0   id                     59400 non-null  int64  \n",
      " 1   amount_tsh             59400 non-null  float64\n",
      " 2   date_recorded          59400 non-null  object \n",
      " 3   funder                 55765 non-null  object \n",
      " 4   gps_height             59400 non-null  int64  \n",
      " 5   installer              55745 non-null  object \n",
      " 6   longitude              59400 non-null  float64\n",
      " 7   latitude               59400 non-null  float64\n",
      " 8   wpt_name               59400 non-null  object \n",
      " 9   num_private            59400 non-null  int64  \n",
      " 10  basin                  59400 non-null  object \n",
      " 11  subvillage             59029 non-null  object \n",
      " 12  region                 59400 non-null  object \n",
      " 13  region_code            59400 non-null  int64  \n",
      " 14  district_code          59400 non-null  int64  \n",
      " 15  lga                    59400 non-null  object \n",
      " 16  ward                   59400 non-null  object \n",
      " 17  population             59400 non-null  int64  \n",
      " 18  public_meeting         56066 non-null  object \n",
      " 19  recorded_by            59400 non-null  object \n",
      " 20  scheme_management      55523 non-null  object \n",
      " 21  scheme_name            31234 non-null  object \n",
      " 22  permit                 56344 non-null  object \n",
      " 23  construction_year      59400 non-null  int64  \n",
      " 24  extraction_type        59400 non-null  object \n",
      " 25  extraction_type_group  59400 non-null  object \n",
      " 26  extraction_type_class  59400 non-null  object \n",
      " 27  management             59400 non-null  object \n",
      " 28  management_group       59400 non-null  object \n",
      " 29  payment                59400 non-null  object \n",
      " 30  payment_type           59400 non-null  object \n",
      " 31  water_quality          59400 non-null  object \n",
      " 32  quality_group          59400 non-null  object \n",
      " 33  quantity               59400 non-null  object \n",
      " 34  quantity_group         59400 non-null  object \n",
      " 35  source                 59400 non-null  object \n",
      " 36  source_type            59400 non-null  object \n",
      " 37  source_class           59400 non-null  object \n",
      " 38  waterpoint_type        59400 non-null  object \n",
      " 39  waterpoint_type_group  59400 non-null  object \n",
      " 40  status_group           59400 non-null  object \n",
      "dtypes: float64(3), int64(7), object(31)\n",
      "memory usage: 19.0+ MB\n"
     ]
    }
   ],
   "source": [
    "train_df.info()"
   ]
  },
  {
   "cell_type": "code",
   "execution_count": 74,
   "metadata": {},
   "outputs": [
    {
     "data": {
      "text/plain": [
       "object     31\n",
       "int64       7\n",
       "float64     3\n",
       "dtype: int64"
      ]
     },
     "execution_count": 74,
     "metadata": {},
     "output_type": "execute_result"
    }
   ],
   "source": [
    "# Getting the data types of the data\n",
    "train_df.dtypes.value_counts()"
   ]
  },
  {
   "cell_type": "code",
   "execution_count": 75,
   "metadata": {},
   "outputs": [
    {
     "name": "stdout",
     "output_type": "stream",
     "text": [
      "Shape of dataset: (59400, 41)\n",
      "Column names: ['id', 'amount_tsh', 'date_recorded', 'funder', 'gps_height', 'installer', 'longitude', 'latitude', 'wpt_name', 'num_private', 'basin', 'subvillage', 'region', 'region_code', 'district_code', 'lga', 'ward', 'population', 'public_meeting', 'recorded_by', 'scheme_management', 'scheme_name', 'permit', 'construction_year', 'extraction_type', 'extraction_type_group', 'extraction_type_class', 'management', 'management_group', 'payment', 'payment_type', 'water_quality', 'quality_group', 'quantity', 'quantity_group', 'source', 'source_type', 'source_class', 'waterpoint_type', 'waterpoint_type_group', 'status_group']\n"
     ]
    }
   ],
   "source": [
    "#function to check on the dataset shape, column names \n",
    "def check_dataset(train_df):\n",
    "    \n",
    "    # Output the shape of the dataset\n",
    "    print(\"Shape of dataset:\", train_df.shape)\n",
    "    \n",
    "    # Output the column names of the dataset\n",
    "    print(\"Column names:\", list(train_df.columns))\n",
    "\n",
    "check_dataset(train_df)"
   ]
  },
  {
   "cell_type": "markdown",
   "metadata": {},
   "source": [
    "## Data Preparation"
   ]
  },
  {
   "cell_type": "code",
   "execution_count": 76,
   "metadata": {},
   "outputs": [
    {
     "name": "stdout",
     "output_type": "stream",
     "text": [
      "No duplicated rows found.\n",
      "Duplicated rows dropped.\n",
      "Cleaned DataFrame:\n",
      "          id  amount_tsh date_recorded           funder  gps_height  \\\n",
      "0      69572      6000.0    2011-03-14            Roman        1390   \n",
      "1       8776         0.0    2013-03-06          Grumeti        1399   \n",
      "2      34310        25.0    2013-02-25     Lottery Club         686   \n",
      "3      67743         0.0    2013-01-28           Unicef         263   \n",
      "4      19728         0.0    2011-07-13      Action In A           0   \n",
      "...      ...         ...           ...              ...         ...   \n",
      "59395  60739        10.0    2013-05-03  Germany Republi        1210   \n",
      "59396  27263      4700.0    2011-05-07      Cefa-njombe        1212   \n",
      "59397  37057         0.0    2011-04-11              NaN           0   \n",
      "59398  31282         0.0    2011-03-08            Malec           0   \n",
      "59399  26348         0.0    2011-03-23       World Bank         191   \n",
      "\n",
      "          installer  longitude   latitude              wpt_name  num_private  \\\n",
      "0             Roman  34.938093  -9.856322                  none            0   \n",
      "1           GRUMETI  34.698766  -2.147466              Zahanati            0   \n",
      "2      World vision  37.460664  -3.821329           Kwa Mahundi            0   \n",
      "3            UNICEF  38.486161 -11.155298  Zahanati Ya Nanyumbu            0   \n",
      "4           Artisan  31.130847  -1.825359               Shuleni            0   \n",
      "...             ...        ...        ...                   ...          ...   \n",
      "59395           CES  37.169807  -3.253847   Area Three Namba 27            0   \n",
      "59396          Cefa  35.249991  -9.070629     Kwa Yahona Kuvala            0   \n",
      "59397           NaN  34.017087  -8.750434               Mashine            0   \n",
      "59398          Musa  35.861315  -6.378573                Mshoro            0   \n",
      "59399         World  38.104048  -6.747464       Kwa Mzee Lugawa            0   \n",
      "\n",
      "       ... water_quality quality_group      quantity  quantity_group  \\\n",
      "0      ...          soft          good        enough          enough   \n",
      "1      ...          soft          good  insufficient    insufficient   \n",
      "2      ...          soft          good        enough          enough   \n",
      "3      ...          soft          good           dry             dry   \n",
      "4      ...          soft          good      seasonal        seasonal   \n",
      "...    ...           ...           ...           ...             ...   \n",
      "59395  ...          soft          good        enough          enough   \n",
      "59396  ...          soft          good        enough          enough   \n",
      "59397  ...      fluoride      fluoride        enough          enough   \n",
      "59398  ...          soft          good  insufficient    insufficient   \n",
      "59399  ...         salty         salty        enough          enough   \n",
      "\n",
      "                     source           source_type source_class  \\\n",
      "0                    spring                spring  groundwater   \n",
      "1      rainwater harvesting  rainwater harvesting      surface   \n",
      "2                       dam                   dam      surface   \n",
      "3               machine dbh              borehole  groundwater   \n",
      "4      rainwater harvesting  rainwater harvesting      surface   \n",
      "...                     ...                   ...          ...   \n",
      "59395                spring                spring  groundwater   \n",
      "59396                 river            river/lake      surface   \n",
      "59397           machine dbh              borehole  groundwater   \n",
      "59398          shallow well          shallow well  groundwater   \n",
      "59399          shallow well          shallow well  groundwater   \n",
      "\n",
      "                   waterpoint_type waterpoint_type_group    status_group  \n",
      "0               communal standpipe    communal standpipe      functional  \n",
      "1               communal standpipe    communal standpipe      functional  \n",
      "2      communal standpipe multiple    communal standpipe      functional  \n",
      "3      communal standpipe multiple    communal standpipe  non functional  \n",
      "4               communal standpipe    communal standpipe      functional  \n",
      "...                            ...                   ...             ...  \n",
      "59395           communal standpipe    communal standpipe      functional  \n",
      "59396           communal standpipe    communal standpipe      functional  \n",
      "59397                    hand pump             hand pump      functional  \n",
      "59398                    hand pump             hand pump      functional  \n",
      "59399                    hand pump             hand pump      functional  \n",
      "\n",
      "[59400 rows x 41 columns]\n"
     ]
    }
   ],
   "source": [
    "class DataCleaner:\n",
    "    def __init__(self, dataframe):\n",
    "        self.dataframe = dataframe\n",
    "\n",
    "    def check_duplicates(self):\n",
    "        # Returns a boolean Series.\n",
    "        duplicated = self.dataframe[self.dataframe.duplicated()]\n",
    "        if not duplicated.empty:\n",
    "            print(\"Found duplicated rows:\")\n",
    "            print(duplicated)\n",
    "        else:\n",
    "            print(\"No duplicated rows found.\")\n",
    "        return duplicated\n",
    "\n",
    "    def drop_duplicates(self):\n",
    "        self.dataframe = self.dataframe.drop_duplicates().reset_index(drop=True)\n",
    "        print(\"Duplicated rows dropped.\")\n",
    "        return self.dataframe\n",
    "\n",
    "\n",
    "df = pd.DataFrame(train_df)\n",
    "cleaner = DataCleaner(df)\n",
    "\n",
    "# Check for duplicates\n",
    "duplicates = cleaner.check_duplicates()\n",
    "\n",
    "# Drop duplicates\n",
    "cleaned_df = cleaner.drop_duplicates()\n",
    "\n",
    "print(\"Cleaned DataFrame:\")\n",
    "print(cleaned_df)\n",
    "\n",
    "# Loading the large dataset (same as before)\n"
   ]
  },
  {
   "cell_type": "markdown",
   "metadata": {},
   "source": [
    "The DataCleaner class is defined and it contains methods to check for and remove duplicate rows from dataframe.\n",
    "\n",
    "We create a large dataset with multiple columns.\n",
    "From the output we see that we had duplicated rows and we ares shown how our cleaned dataframe looked like after we dropped duplicates. and then checked for the duplicates again and none were found."
   ]
  },
  {
   "cell_type": "markdown",
   "metadata": {},
   "source": [
    "## Checking for missing values and handling them"
   ]
  },
  {
   "cell_type": "code",
   "execution_count": 77,
   "metadata": {},
   "outputs": [
    {
     "name": "stdout",
     "output_type": "stream",
     "text": [
      "Missing values in column 'funder' replaced with mode: Government Of Tanzania.\n",
      "Missing values in column 'installer' replaced with mode: DWE.\n",
      "Missing values in column 'subvillage' replaced with mode: Madukani.\n",
      "Missing values in column 'public_meeting' replaced with mode: True.\n",
      "Missing values in column 'scheme_management' replaced with mode: VWC.\n",
      "Missing values in column 'scheme_name' replaced with mode: K.\n",
      "Missing values in column 'permit' replaced with mode: True.\n",
      "DataFrame after replacing missing values with mode:\n",
      "          id  amount_tsh date_recorded                  funder  gps_height  \\\n",
      "0      69572      6000.0    2011-03-14                   Roman        1390   \n",
      "1       8776         0.0    2013-03-06                 Grumeti        1399   \n",
      "2      34310        25.0    2013-02-25            Lottery Club         686   \n",
      "3      67743         0.0    2013-01-28                  Unicef         263   \n",
      "4      19728         0.0    2011-07-13             Action In A           0   \n",
      "...      ...         ...           ...                     ...         ...   \n",
      "59395  60739        10.0    2013-05-03         Germany Republi        1210   \n",
      "59396  27263      4700.0    2011-05-07             Cefa-njombe        1212   \n",
      "59397  37057         0.0    2011-04-11  Government Of Tanzania           0   \n",
      "59398  31282         0.0    2011-03-08                   Malec           0   \n",
      "59399  26348         0.0    2011-03-23              World Bank         191   \n",
      "\n",
      "          installer  longitude   latitude              wpt_name  num_private  \\\n",
      "0             Roman  34.938093  -9.856322                  none            0   \n",
      "1           GRUMETI  34.698766  -2.147466              Zahanati            0   \n",
      "2      World vision  37.460664  -3.821329           Kwa Mahundi            0   \n",
      "3            UNICEF  38.486161 -11.155298  Zahanati Ya Nanyumbu            0   \n",
      "4           Artisan  31.130847  -1.825359               Shuleni            0   \n",
      "...             ...        ...        ...                   ...          ...   \n",
      "59395           CES  37.169807  -3.253847   Area Three Namba 27            0   \n",
      "59396          Cefa  35.249991  -9.070629     Kwa Yahona Kuvala            0   \n",
      "59397           DWE  34.017087  -8.750434               Mashine            0   \n",
      "59398          Musa  35.861315  -6.378573                Mshoro            0   \n",
      "59399         World  38.104048  -6.747464       Kwa Mzee Lugawa            0   \n",
      "\n",
      "       ... water_quality quality_group      quantity  quantity_group  \\\n",
      "0      ...          soft          good        enough          enough   \n",
      "1      ...          soft          good  insufficient    insufficient   \n",
      "2      ...          soft          good        enough          enough   \n",
      "3      ...          soft          good           dry             dry   \n",
      "4      ...          soft          good      seasonal        seasonal   \n",
      "...    ...           ...           ...           ...             ...   \n",
      "59395  ...          soft          good        enough          enough   \n",
      "59396  ...          soft          good        enough          enough   \n",
      "59397  ...      fluoride      fluoride        enough          enough   \n",
      "59398  ...          soft          good  insufficient    insufficient   \n",
      "59399  ...         salty         salty        enough          enough   \n",
      "\n",
      "                     source           source_type source_class  \\\n",
      "0                    spring                spring  groundwater   \n",
      "1      rainwater harvesting  rainwater harvesting      surface   \n",
      "2                       dam                   dam      surface   \n",
      "3               machine dbh              borehole  groundwater   \n",
      "4      rainwater harvesting  rainwater harvesting      surface   \n",
      "...                     ...                   ...          ...   \n",
      "59395                spring                spring  groundwater   \n",
      "59396                 river            river/lake      surface   \n",
      "59397           machine dbh              borehole  groundwater   \n",
      "59398          shallow well          shallow well  groundwater   \n",
      "59399          shallow well          shallow well  groundwater   \n",
      "\n",
      "                   waterpoint_type  waterpoint_type_group    status_group  \n",
      "0               communal standpipe     communal standpipe      functional  \n",
      "1               communal standpipe     communal standpipe      functional  \n",
      "2      communal standpipe multiple     communal standpipe      functional  \n",
      "3      communal standpipe multiple     communal standpipe  non functional  \n",
      "4               communal standpipe     communal standpipe      functional  \n",
      "...                            ...                    ...             ...  \n",
      "59395           communal standpipe     communal standpipe      functional  \n",
      "59396           communal standpipe     communal standpipe      functional  \n",
      "59397                    hand pump              hand pump      functional  \n",
      "59398                    hand pump              hand pump      functional  \n",
      "59399                    hand pump              hand pump      functional  \n",
      "\n",
      "[59400 rows x 41 columns]\n"
     ]
    }
   ],
   "source": [
    "class DataCleaner:\n",
    "    def __init__(self, dataframe):\n",
    "        self.dataframe = dataframe\n",
    "\n",
    "    def replace_missing_with_mode(self):\n",
    "        \"\"\"\n",
    "        Replaces missing values in the DataFrame with the mode of each column.\n",
    "\n",
    "        Returns:\n",
    "            DataFrame: A DataFrame with missing values replaced by the mode.\n",
    "        \"\"\"\n",
    "        for column in self.dataframe.columns:\n",
    "            if self.dataframe[column].isnull().any():\n",
    "                mode_value = self.dataframe[column].mode()[0]\n",
    "                self.dataframe[column].fillna(mode_value, inplace=True)\n",
    "                print(f\"Missing values in column '{column}' replaced with mode: {mode_value}.\")\n",
    "        return self.dataframe\n",
    "\n",
    "df = pd.DataFrame(train_df)\n",
    "handler = DataCleaner(train_df)\n",
    "\n",
    "# Replace missing values with mode (after method definition)\n",
    "df_mode = handler.replace_missing_with_mode()\n",
    "print(\"DataFrame after replacing missing values with mode:\")\n",
    "print(df_mode)\n"
   ]
  },
  {
   "cell_type": "markdown",
   "metadata": {},
   "source": [
    "We checked for missing values and found some that were shown in the columns above which were replaced by the mode using fillna method."
   ]
  },
  {
   "cell_type": "markdown",
   "metadata": {},
   "source": [
    "Some columns here need to be converted to categorical"
   ]
  },
  {
   "cell_type": "code",
   "execution_count": 78,
   "metadata": {},
   "outputs": [
    {
     "data": {
      "text/plain": [
       "<bound method DataFrame.info of           id  amount_tsh date_recorded                  funder  gps_height  \\\n",
       "0      69572      6000.0    2011-03-14                   Roman        1390   \n",
       "1       8776         0.0    2013-03-06                 Grumeti        1399   \n",
       "2      34310        25.0    2013-02-25            Lottery Club         686   \n",
       "3      67743         0.0    2013-01-28                  Unicef         263   \n",
       "4      19728         0.0    2011-07-13             Action In A           0   \n",
       "...      ...         ...           ...                     ...         ...   \n",
       "59395  60739        10.0    2013-05-03         Germany Republi        1210   \n",
       "59396  27263      4700.0    2011-05-07             Cefa-njombe        1212   \n",
       "59397  37057         0.0    2011-04-11  Government Of Tanzania           0   \n",
       "59398  31282         0.0    2011-03-08                   Malec           0   \n",
       "59399  26348         0.0    2011-03-23              World Bank         191   \n",
       "\n",
       "          installer  longitude   latitude              wpt_name  num_private  \\\n",
       "0             Roman  34.938093  -9.856322                  none            0   \n",
       "1           GRUMETI  34.698766  -2.147466              Zahanati            0   \n",
       "2      World vision  37.460664  -3.821329           Kwa Mahundi            0   \n",
       "3            UNICEF  38.486161 -11.155298  Zahanati Ya Nanyumbu            0   \n",
       "4           Artisan  31.130847  -1.825359               Shuleni            0   \n",
       "...             ...        ...        ...                   ...          ...   \n",
       "59395           CES  37.169807  -3.253847   Area Three Namba 27            0   \n",
       "59396          Cefa  35.249991  -9.070629     Kwa Yahona Kuvala            0   \n",
       "59397           DWE  34.017087  -8.750434               Mashine            0   \n",
       "59398          Musa  35.861315  -6.378573                Mshoro            0   \n",
       "59399         World  38.104048  -6.747464       Kwa Mzee Lugawa            0   \n",
       "\n",
       "       ... water_quality quality_group      quantity  quantity_group  \\\n",
       "0      ...          soft          good        enough          enough   \n",
       "1      ...          soft          good  insufficient    insufficient   \n",
       "2      ...          soft          good        enough          enough   \n",
       "3      ...          soft          good           dry             dry   \n",
       "4      ...          soft          good      seasonal        seasonal   \n",
       "...    ...           ...           ...           ...             ...   \n",
       "59395  ...          soft          good        enough          enough   \n",
       "59396  ...          soft          good        enough          enough   \n",
       "59397  ...      fluoride      fluoride        enough          enough   \n",
       "59398  ...          soft          good  insufficient    insufficient   \n",
       "59399  ...         salty         salty        enough          enough   \n",
       "\n",
       "                     source           source_type source_class  \\\n",
       "0                    spring                spring  groundwater   \n",
       "1      rainwater harvesting  rainwater harvesting      surface   \n",
       "2                       dam                   dam      surface   \n",
       "3               machine dbh              borehole  groundwater   \n",
       "4      rainwater harvesting  rainwater harvesting      surface   \n",
       "...                     ...                   ...          ...   \n",
       "59395                spring                spring  groundwater   \n",
       "59396                 river            river/lake      surface   \n",
       "59397           machine dbh              borehole  groundwater   \n",
       "59398          shallow well          shallow well  groundwater   \n",
       "59399          shallow well          shallow well  groundwater   \n",
       "\n",
       "                   waterpoint_type  waterpoint_type_group    status_group  \n",
       "0               communal standpipe     communal standpipe      functional  \n",
       "1               communal standpipe     communal standpipe      functional  \n",
       "2      communal standpipe multiple     communal standpipe      functional  \n",
       "3      communal standpipe multiple     communal standpipe  non functional  \n",
       "4               communal standpipe     communal standpipe      functional  \n",
       "...                            ...                    ...             ...  \n",
       "59395           communal standpipe     communal standpipe      functional  \n",
       "59396           communal standpipe     communal standpipe      functional  \n",
       "59397                    hand pump              hand pump      functional  \n",
       "59398                    hand pump              hand pump      functional  \n",
       "59399                    hand pump              hand pump      functional  \n",
       "\n",
       "[59400 rows x 41 columns]>"
      ]
     },
     "execution_count": 78,
     "metadata": {},
     "output_type": "execute_result"
    }
   ],
   "source": [
    "df_mode.info"
   ]
  },
  {
   "cell_type": "code",
   "execution_count": 79,
   "metadata": {},
   "outputs": [
    {
     "name": "stdout",
     "output_type": "stream",
     "text": [
      "id                          int64\n",
      "amount_tsh                float64\n",
      "date_recorded              object\n",
      "funder                     object\n",
      "gps_height                  int64\n",
      "installer                  object\n",
      "longitude                 float64\n",
      "latitude                  float64\n",
      "wpt_name                   object\n",
      "num_private                 int64\n",
      "basin                    category\n",
      "subvillage                 object\n",
      "region                   category\n",
      "region_code              category\n",
      "district_code            category\n",
      "lga                        object\n",
      "ward                       object\n",
      "population                  int64\n",
      "public_meeting           category\n",
      "recorded_by              category\n",
      "scheme_management        category\n",
      "scheme_name                object\n",
      "permit                       bool\n",
      "construction_year           int64\n",
      "extraction_type            object\n",
      "extraction_type_group      object\n",
      "extraction_type_class      object\n",
      "management                 object\n",
      "management_group           object\n",
      "payment                    object\n",
      "payment_type             category\n",
      "water_quality            category\n",
      "quality_group              object\n",
      "quantity                 category\n",
      "quantity_group             object\n",
      "source                   category\n",
      "source_type                object\n",
      "source_class               object\n",
      "waterpoint_type          category\n",
      "waterpoint_type_group      object\n",
      "status_group               object\n",
      "dtype: object\n"
     ]
    }
   ],
   "source": [
    "#Converting some columns into categorical\n",
    "for col in ['basin','region','region_code','district_code','public_meeting','recorded_by','scheme_management','payment_type','water_quality','quantity','source','waterpoint_type']:\n",
    "    df_mode[col] = df_mode[col].astype('category')\n",
    "\n",
    "print(df_mode.dtypes)\n"
   ]
  },
  {
   "cell_type": "markdown",
   "metadata": {},
   "source": [
    "We chose to convert specific columns into categorical due to nature of the data and the modelling taks we plan to perform."
   ]
  },
  {
   "cell_type": "code",
   "execution_count": 80,
   "metadata": {},
   "outputs": [],
   "source": [
    "columns_to_drop = ['id', 'num_private', 'recorded_by']  # List columns you want to drop\n",
    "\n",
    "df_mode.drop(columns=columns_to_drop, inplace=True)\n"
   ]
  },
  {
   "cell_type": "markdown",
   "metadata": {},
   "source": [
    "## Explanatory Data Analysis"
   ]
  },
  {
   "cell_type": "markdown",
   "metadata": {},
   "source": [
    "In EDA, we delve into a deeper understanding of the dataset gining insights from the content and also its structures through visualizations,and exploration techniques."
   ]
  },
  {
   "cell_type": "markdown",
   "metadata": {},
   "source": [
    "### Univariate Analysis\n",
    "\n",
    "We will start by finding the number of unique funders for the project and the call a function to display the top 12 funders."
   ]
  },
  {
   "cell_type": "code",
   "execution_count": 81,
   "metadata": {},
   "outputs": [
    {
     "name": "stdout",
     "output_type": "stream",
     "text": [
      "There are 1897 unique values of funders\n"
     ]
    }
   ],
   "source": [
    "U_funders = df_mode['funder'].nunique()\n",
    "print(\"There are {} unique values of funders\".format(U_funders))\n"
   ]
  },
  {
   "cell_type": "code",
   "execution_count": 82,
   "metadata": {},
   "outputs": [
    {
     "name": "stdout",
     "output_type": "stream",
     "text": [
      "Top 12 Funders:\n",
      "Government Of Tanzania    12719\n",
      "Danida                     3114\n",
      "Hesawa                     2202\n",
      "Rwssp                      1374\n",
      "World Bank                 1349\n",
      "Kkkt                       1287\n",
      "World Vision               1246\n",
      "Unicef                     1057\n",
      "Tasaf                       877\n",
      "District Council            843\n",
      "Dhv                         829\n",
      "Private Individual          826\n",
      "Name: funder, dtype: int64\n"
     ]
    }
   ],
   "source": [
    "def display_top_funders(data, n=15):\n",
    "    top_funders = df_mode['funder'].value_counts().head(n)\n",
    "    print(f\"Top {n} Funders:\")\n",
    "    print(top_funders)\n",
    "\n",
    "\n",
    "display_top_funders(df_mode, n=12)\n"
   ]
  },
  {
   "cell_type": "code",
   "execution_count": 83,
   "metadata": {},
   "outputs": [
    {
     "data": {
      "image/png": "[encoded data removed]",
      "text/plain": [
       "<Figure size 864x432 with 1 Axes>"
      ]
     },
     "metadata": {
      "needs_background": "light"
     },
     "output_type": "display_data"
    }
   ],
   "source": [
    "# Now plot the top twelve funders for thewells.\n",
    "\n",
    "def display_funders(data, n=12):\n",
    "    funders = df_mode['funder'].value_counts().head(n)\n",
    "\n",
    "    # Plot the  funders\n",
    "    plt.figure(figsize=(12, 6))\n",
    "    plt.bar(top_funders.index, top_funders.values)\n",
    "    plt.title('Top 12 Funders')\n",
    "    plt.xlabel('Funders')\n",
    "    plt.ylabel('Frequency of wells')\n",
    "    plt.xticks(rotation=60)\n",
    "    plt.show()\n",
    "\n",
    "    return funders\n",
    "\n",
    "\n",
    "funders = display_funders(df_mode, n=12)"
   ]
  },
  {
   "cell_type": "markdown",
   "metadata": {},
   "source": [
    "It is evident that the government of Tanzania is the biggest funder,seconded by Danida and rthen the rest follow."
   ]
  },
  {
   "cell_type": "markdown",
   "metadata": {},
   "source": [
    "We will go ahead and for the number of unique well installers."
   ]
  },
  {
   "cell_type": "code",
   "execution_count": 84,
   "metadata": {},
   "outputs": [
    {
     "name": "stdout",
     "output_type": "stream",
     "text": [
      "There are 2145 unique values of installers\n"
     ]
    }
   ],
   "source": [
    "# Assuming df_mode is already defined\n",
    "unique_installers = df_mode['installer'].nunique()\n",
    "print(\"There are {} unique values of installers\".format(unique_installers))\n"
   ]
  },
  {
   "cell_type": "code",
   "execution_count": 85,
   "metadata": {},
   "outputs": [
    {
     "name": "stdout",
     "output_type": "stream",
     "text": [
      "18\n"
     ]
    }
   ],
   "source": [
    "\n",
    "data = {'installer': ['Roman', 'Grumeti', 'World vision', 'UNICEF', 'Artisan', 'CES', 'Cefa', None, 'Musa', 'World Bank', 'Roman', 'Grumeti', 'World vision', 'UNICEF', 'Artisan', 'CES', 'Cefa', None, 'Musa', 'World Bank']}\n",
    "df = pd.DataFrame(data)\n",
    "\n",
    "# Get the value counts for the 'installer' column\n",
    "installer_counts = df['installer'].value_counts()\n",
    "\n",
    "# Print the sum of the value counts\n",
    "print(installer_counts.sum())\n"
   ]
  },
  {
   "cell_type": "markdown",
   "metadata": {},
   "source": [
    "Given 18 then that means the None was nit counted so will introduce a code that will cater for None."
   ]
  },
  {
   "cell_type": "code",
   "execution_count": 86,
   "metadata": {},
   "outputs": [
    {
     "name": "stdout",
     "output_type": "stream",
     "text": [
      "Number of missing values (None): 2\n",
      "Total installers (including replaced None): 20\n"
     ]
    }
   ],
   "source": [
    "# Check for missing values (None) in the 'installer' column\n",
    "missing_values = df['installer'].isnull().sum()\n",
    "print(f\"Number of missing values (None): {missing_values}\")\n",
    "#instead of excluding 'None' from the count, we will then replace ut with another value\n",
    "\n",
    "  \n",
    "  # Option 2: Replace None with a different value\n",
    "df['installer'] = df['installer'].fillna('Unknown')\n",
    "installer_counts = df['installer'].value_counts()\n",
    "print(f\"Total installers (including replaced None): {installer_counts.sum()}\")\n"
   ]
  },
  {
   "cell_type": "code",
   "execution_count": 87,
   "metadata": {},
   "outputs": [
    {
     "name": "stdout",
     "output_type": "stream",
     "text": [
      "DWE                   21057\n",
      "Government             1825\n",
      "RWE                    1206\n",
      "Commu                  1060\n",
      "DANIDA                 1050\n",
      "KKKT                    898\n",
      "Hesawa                  840\n",
      "0                       777\n",
      "TCRS                    707\n",
      "Central government      622\n",
      "Name: installer, dtype: int64\n"
     ]
    }
   ],
   "source": [
    "#Display the ten top installers\n",
    "top_installers = df_mode ['installer'].value_counts().head(10)\n",
    "print(top_installers)"
   ]
  },
  {
   "cell_type": "code",
   "execution_count": 88,
   "metadata": {},
   "outputs": [
    {
     "data": {
      "image/png": "[encoded data removed]",
      "text/plain": [
       "<Figure size 864x1296 with 1 Axes>"
      ]
     },
     "metadata": {
      "needs_background": "light"
     },
     "output_type": "display_data"
    }
   ],
   "source": [
    "# Now plot the top installers for the wells.\n",
    "\n",
    "def display_installers(data, n=18):\n",
    "    top_installers = df_mode['installer'].value_counts().head(n)\n",
    "\n",
    "    # Plot the  funders\n",
    "    plt.figure(figsize=(12, 18))\n",
    "    plt.bar(top_installers.index, top_installers.values)\n",
    "    plt.title('Top Installers')\n",
    "    plt.xlabel('installers')\n",
    "    plt.ylabel('Frequency of wells')\n",
    "    plt.xticks(rotation=45)\n",
    "    plt.show()\n",
    "\n",
    "    return top_installers\n",
    "\n",
    "\n",
    "funders = display_installers(df_mode, n=18)"
   ]
  },
  {
   "cell_type": "markdown",
   "metadata": {},
   "source": [
    "From the graphical representation above, we see that the top installer is DWE, seconded by the goverment and then the rest follow."
   ]
  },
  {
   "cell_type": "markdown",
   "metadata": {},
   "source": [
    "## Year of construction of wells."
   ]
  },
  {
   "cell_type": "code",
   "execution_count": 89,
   "metadata": {},
   "outputs": [
    {
     "data": {
      "text/plain": [
       "0       20709\n",
       "2010     2645\n",
       "2008     2613\n",
       "2009     2533\n",
       "2000     2091\n",
       "2007     1587\n",
       "2006     1471\n",
       "2003     1286\n",
       "2011     1256\n",
       "2004     1123\n",
       "2012     1084\n",
       "2002     1075\n",
       "1978     1037\n",
       "1995     1014\n",
       "2005     1011\n",
       "1999      979\n",
       "1998      966\n",
       "1990      954\n",
       "1985      945\n",
       "1980      811\n",
       "1996      811\n",
       "1984      779\n",
       "1982      744\n",
       "1994      738\n",
       "1972      708\n",
       "1974      676\n",
       "1997      644\n",
       "1992      640\n",
       "1993      608\n",
       "2001      540\n",
       "1988      521\n",
       "1983      488\n",
       "1975      437\n",
       "1986      434\n",
       "1976      414\n",
       "1970      411\n",
       "1991      324\n",
       "1989      316\n",
       "1987      302\n",
       "1981      238\n",
       "1977      202\n",
       "1979      192\n",
       "1973      184\n",
       "2013      176\n",
       "1971      145\n",
       "1960      102\n",
       "1967       88\n",
       "1963       85\n",
       "1968       77\n",
       "1969       59\n",
       "1964       40\n",
       "1962       30\n",
       "1961       21\n",
       "1965       19\n",
       "1966       17\n",
       "Name: construction_year, dtype: int64"
      ]
     },
     "execution_count": 89,
     "metadata": {},
     "output_type": "execute_result"
    }
   ],
   "source": [
    "df_mode['construction_year'].value_counts()"
   ]
  },
  {
   "cell_type": "markdown",
   "metadata": {},
   "source": [
    "The output listed shows the number of constructions done in various years but since 0 is invalid year then it is likely to be the place holder of missing values but we will not drop it,or even convert it into mdeian because it has majority of the dataset .We will have to use it as a new value."
   ]
  },
  {
   "cell_type": "markdown",
   "metadata": {},
   "source": [
    "We shall create a new column and we will not alter with the original data."
   ]
  },
  {
   "cell_type": "code",
   "execution_count": 90,
   "metadata": {},
   "outputs": [
    {
     "name": "stdout",
     "output_type": "stream",
     "text": [
      "   amount_tsh  gps_height  longitude  latitude  population  age region  \\\n",
      "0           0          10       35.0     -10.0         100    5      A   \n",
      "1          10          20       36.0      -9.0         200   10      B   \n",
      "2          20          30       37.0      -8.0         300   15      A   \n",
      "\n",
      "    installer  construction_year  construction_year_missing  \n",
      "0  Installer1                  0                       True  \n",
      "1  Installer2               2010                      False  \n",
      "2  Installer1                  0                       True  \n"
     ]
    }
   ],
   "source": [
    "data = {\n",
    "    'amount_tsh': [0, 10, 20],\n",
    "    'gps_height': [10, 20, 30],\n",
    "    'longitude': [35.0, 36.0, 37.0],\n",
    "    'latitude': [-10.0, -9.0, -8.0],\n",
    "    'population': [100, 200, 300],\n",
    "    'age': [5, 10, 15],  # Add more features as needed\n",
    "    'region': ['A', 'B', 'A'],\n",
    "    'installer': ['Installer1', 'Installer2', 'Installer1'],\n",
    "    'construction_year': [0, 2010, 0]\n",
    "}\n",
    "df = pd.DataFrame(data)\n",
    "\n",
    "# Create a new column 'construction_year_missing' to flag the missing years\n",
    "df['construction_year_missing'] = df['construction_year'] == 0\n",
    "\n",
    "# Display the updated DataFrame\n",
    "print(df)\n"
   ]
  },
  {
   "cell_type": "code",
   "execution_count": 91,
   "metadata": {},
   "outputs": [
    {
     "data": {
      "image/png": "[encoded data removed]",
      "text/plain": [
       "<Figure size 864x432 with 1 Axes>"
      ]
     },
     "metadata": {
      "needs_background": "light"
     },
     "output_type": "display_data"
    },
    {
     "data": {
      "image/png": "[encoded data removed]",
      "text/plain": [
       "<Figure size 576x288 with 1 Axes>"
      ]
     },
     "metadata": {
      "needs_background": "light"
     },
     "output_type": "display_data"
    }
   ],
   "source": [
    "# Plotting the construction_year distribution\n",
    "plt.figure(figsize=(12, 6))\n",
    "sns.histplot(df['construction_year'], bins=30, kde=True)\n",
    "plt.title('Distribution of Construction Year')\n",
    "plt.xlabel('Construction Year')\n",
    "plt.ylabel('Frequency')\n",
    "plt.show()\n",
    "\n",
    "# Plotting the construction_year_missing column\n",
    "plt.figure(figsize=(8, 4))\n",
    "sns.countplot(x='construction_year_missing', data=df)\n",
    "plt.title('Missing Construction Year')\n",
    "plt.xlabel('Construction Year Missing')\n",
    "plt.ylabel('Count')\n",
    "plt.xticks([0, 1], ['No', 'Yes'])\n",
    "plt.show()"
   ]
  },
  {
   "cell_type": "markdown",
   "metadata": {},
   "source": [
    "Came up with two graphical representations of both the construction year and the missing construction year."
   ]
  },
  {
   "cell_type": "markdown",
   "metadata": {},
   "source": [
    "### Population\n",
    "Let us take a look at the population so that we can compare with functionality of the wells and know whether it is a factor."
   ]
  },
  {
   "cell_type": "code",
   "execution_count": 92,
   "metadata": {},
   "outputs": [
    {
     "data": {
      "text/plain": [
       "0       21381\n",
       "1        7025\n",
       "200      1940\n",
       "150      1892\n",
       "250      1681\n",
       "        ...  \n",
       "3241        1\n",
       "1960        1\n",
       "1685        1\n",
       "2248        1\n",
       "1439        1\n",
       "Name: population, Length: 1049, dtype: int64"
      ]
     },
     "execution_count": 92,
     "metadata": {},
     "output_type": "execute_result"
    }
   ],
   "source": [
    "df_mode['population'].value_counts()"
   ]
  },
  {
   "cell_type": "code",
   "execution_count": 94,
   "metadata": {},
   "outputs": [
    {
     "data": {
      "text/html": [
       "<div>\n",
       "<style scoped>\n",
       "    .dataframe tbody tr th:only-of-type {\n",
       "        vertical-align: middle;\n",
       "    }\n",
       "\n",
       "    .dataframe tbody tr th {\n",
       "        vertical-align: top;\n",
       "    }\n",
       "\n",
       "    .dataframe thead th {\n",
       "        text-align: right;\n",
       "    }\n",
       "</style>\n",
       "<table border=\"1\" class=\"dataframe\">\n",
       "  <thead>\n",
       "    <tr style=\"text-align: right;\">\n",
       "      <th></th>\n",
       "      <th>amount_tsh</th>\n",
       "      <th>date_recorded</th>\n",
       "      <th>funder</th>\n",
       "      <th>gps_height</th>\n",
       "      <th>installer</th>\n",
       "      <th>longitude</th>\n",
       "      <th>latitude</th>\n",
       "      <th>wpt_name</th>\n",
       "      <th>basin</th>\n",
       "      <th>subvillage</th>\n",
       "      <th>...</th>\n",
       "      <th>payment_type</th>\n",
       "      <th>water_quality</th>\n",
       "      <th>quality_group</th>\n",
       "      <th>quantity</th>\n",
       "      <th>quantity_group</th>\n",
       "      <th>source</th>\n",
       "      <th>source_type</th>\n",
       "      <th>source_class</th>\n",
       "      <th>waterpoint_type</th>\n",
       "      <th>waterpoint_type_group</th>\n",
       "    </tr>\n",
       "    <tr>\n",
       "      <th>status_group</th>\n",
       "      <th></th>\n",
       "      <th></th>\n",
       "      <th></th>\n",
       "      <th></th>\n",
       "      <th></th>\n",
       "      <th></th>\n",
       "      <th></th>\n",
       "      <th></th>\n",
       "      <th></th>\n",
       "      <th></th>\n",
       "      <th></th>\n",
       "      <th></th>\n",
       "      <th></th>\n",
       "      <th></th>\n",
       "      <th></th>\n",
       "      <th></th>\n",
       "      <th></th>\n",
       "      <th></th>\n",
       "      <th></th>\n",
       "      <th></th>\n",
       "      <th></th>\n",
       "    </tr>\n",
       "  </thead>\n",
       "  <tbody>\n",
       "    <tr>\n",
       "      <th>functional</th>\n",
       "      <td>11274</td>\n",
       "      <td>11274</td>\n",
       "      <td>11274</td>\n",
       "      <td>11274</td>\n",
       "      <td>11274</td>\n",
       "      <td>11274</td>\n",
       "      <td>11274</td>\n",
       "      <td>11274</td>\n",
       "      <td>11274</td>\n",
       "      <td>11274</td>\n",
       "      <td>...</td>\n",
       "      <td>11274</td>\n",
       "      <td>11274</td>\n",
       "      <td>11274</td>\n",
       "      <td>11274</td>\n",
       "      <td>11274</td>\n",
       "      <td>11274</td>\n",
       "      <td>11274</td>\n",
       "      <td>11274</td>\n",
       "      <td>11274</td>\n",
       "      <td>11274</td>\n",
       "    </tr>\n",
       "    <tr>\n",
       "      <th>functional needs repair</th>\n",
       "      <td>1775</td>\n",
       "      <td>1775</td>\n",
       "      <td>1775</td>\n",
       "      <td>1775</td>\n",
       "      <td>1775</td>\n",
       "      <td>1775</td>\n",
       "      <td>1775</td>\n",
       "      <td>1775</td>\n",
       "      <td>1775</td>\n",
       "      <td>1775</td>\n",
       "      <td>...</td>\n",
       "      <td>1775</td>\n",
       "      <td>1775</td>\n",
       "      <td>1775</td>\n",
       "      <td>1775</td>\n",
       "      <td>1775</td>\n",
       "      <td>1775</td>\n",
       "      <td>1775</td>\n",
       "      <td>1775</td>\n",
       "      <td>1775</td>\n",
       "      <td>1775</td>\n",
       "    </tr>\n",
       "    <tr>\n",
       "      <th>non functional</th>\n",
       "      <td>8332</td>\n",
       "      <td>8332</td>\n",
       "      <td>8332</td>\n",
       "      <td>8332</td>\n",
       "      <td>8332</td>\n",
       "      <td>8332</td>\n",
       "      <td>8332</td>\n",
       "      <td>8332</td>\n",
       "      <td>8332</td>\n",
       "      <td>8332</td>\n",
       "      <td>...</td>\n",
       "      <td>8332</td>\n",
       "      <td>8332</td>\n",
       "      <td>8332</td>\n",
       "      <td>8332</td>\n",
       "      <td>8332</td>\n",
       "      <td>8332</td>\n",
       "      <td>8332</td>\n",
       "      <td>8332</td>\n",
       "      <td>8332</td>\n",
       "      <td>8332</td>\n",
       "    </tr>\n",
       "  </tbody>\n",
       "</table>\n",
       "<p>3 rows × 37 columns</p>\n",
       "</div>"
      ],
      "text/plain": [
       "                         amount_tsh  date_recorded  funder  gps_height  \\\n",
       "status_group                                                             \n",
       "functional                    11274          11274   11274       11274   \n",
       "functional needs repair        1775           1775    1775        1775   \n",
       "non functional                 8332           8332    8332        8332   \n",
       "\n",
       "                         installer  longitude  latitude  wpt_name  basin  \\\n",
       "status_group                                                               \n",
       "functional                   11274      11274     11274     11274  11274   \n",
       "functional needs repair       1775       1775      1775      1775   1775   \n",
       "non functional                8332       8332      8332      8332   8332   \n",
       "\n",
       "                         subvillage  ...  payment_type  water_quality  \\\n",
       "status_group                         ...                                \n",
       "functional                    11274  ...         11274          11274   \n",
       "functional needs repair        1775  ...          1775           1775   \n",
       "non functional                 8332  ...          8332           8332   \n",
       "\n",
       "                         quality_group  quantity  quantity_group  source  \\\n",
       "status_group                                                               \n",
       "functional                       11274     11274           11274   11274   \n",
       "functional needs repair           1775      1775            1775    1775   \n",
       "non functional                    8332      8332            8332    8332   \n",
       "\n",
       "                         source_type  source_class  waterpoint_type  \\\n",
       "status_group                                                          \n",
       "functional                     11274         11274            11274   \n",
       "functional needs repair         1775          1775             1775   \n",
       "non functional                  8332          8332             8332   \n",
       "\n",
       "                         waterpoint_type_group  \n",
       "status_group                                    \n",
       "functional                               11274  \n",
       "functional needs repair                   1775  \n",
       "non functional                            8332  \n",
       "\n",
       "[3 rows x 37 columns]"
      ]
     },
     "execution_count": 94,
     "metadata": {},
     "output_type": "execute_result"
    }
   ],
   "source": [
    "df_mode.loc[df_mode['population']==0].groupby('status_group').count()"
   ]
  },
  {
   "cell_type": "code",
   "execution_count": 97,
   "metadata": {},
   "outputs": [
    {
     "name": "stdout",
     "output_type": "stream",
     "text": [
      "Total number of people around the wells is 59400.0\n",
      "\n",
      "\n",
      "The average number of people living around the wells is 179.90998316498317\n",
      "\n",
      "\n",
      "The minimum population value is 0.0\n",
      "\n",
      "\n",
      "The maximum population value is 30500.0\n"
     ]
    }
   ],
   "source": [
    "pop = df_mode['population'].describe()\n",
    "print(\"Total number of people around the wells is\",pop[0])\n",
    "print(\"\\n\")\n",
    "print(\"The average number of people living around the wells is\",pop[1])\n",
    "print(\"\\n\")\n",
    "print(\"The minimum population value is\",pop[3])\n",
    "print(\"\\n\")\n",
    "print(\"The maximum population value is\",pop[7])"
   ]
  },
  {
   "cell_type": "markdown",
   "metadata": {},
   "source": [
    "### Water Quality."
   ]
  },
  {
   "cell_type": "code",
   "execution_count": 98,
   "metadata": {},
   "outputs": [
    {
     "data": {
      "text/plain": [
       "soft                  50818\n",
       "salty                  4856\n",
       "unknown                1876\n",
       "milky                   804\n",
       "coloured                490\n",
       "salty abandoned         339\n",
       "fluoride                200\n",
       "fluoride abandoned       17\n",
       "Name: water_quality, dtype: int64"
      ]
     },
     "execution_count": 98,
     "metadata": {},
     "output_type": "execute_result"
    }
   ],
   "source": [
    "df_mode['water_quality'].value_counts()\n"
   ]
  },
  {
   "cell_type": "code",
   "execution_count": 99,
   "metadata": {},
   "outputs": [
    {
     "data": {
      "image/png": "[encoded data removed]",
      "text/plain": [
       "<Figure size 864x720 with 1 Axes>"
      ]
     },
     "metadata": {
      "needs_background": "light"
     },
     "output_type": "display_data"
    }
   ],
   "source": [
    "\n",
    "plt.figure(figsize=(12,10))\n",
    "ax = sns.countplot(x='water_quality', hue=\"status_group\", data=df_mode)"
   ]
  },
  {
   "cell_type": "markdown",
   "metadata": {},
   "source": [
    "OR"
   ]
  },
  {
   "cell_type": "code",
   "execution_count": 103,
   "metadata": {},
   "outputs": [
    {
     "data": {
      "image/png": "[encoded data removed]",
      "text/plain": [
       "<Figure size 720x576 with 1 Axes>"
      ]
     },
     "metadata": {
      "needs_background": "light"
     },
     "output_type": "display_data"
    }
   ],
   "source": [
    "fig, ax = plt.subplots(figsize=(10,8))\n",
    "quality_count = train_df[\"water_quality\"].value_counts().sort_values(ascending=False).head(5)\n",
    "plt.bar(quality_count.index, quality_count.values)\n",
    "plt.xlabel(\"Quality of water\")\n",
    "plt.ylabel(\"Frequency\")\n",
    "plt.title(\"water quality in the wells\")\n",
    "sns.set_style(\"darkgrid\")\n",
    "plt.show()"
   ]
  },
  {
   "cell_type": "markdown",
   "metadata": {},
   "source": [
    "### Quantity"
   ]
  },
  {
   "cell_type": "code",
   "execution_count": 100,
   "metadata": {},
   "outputs": [
    {
     "data": {
      "text/plain": [
       "enough          33186\n",
       "insufficient    15129\n",
       "dry              6246\n",
       "seasonal         4050\n",
       "unknown           789\n",
       "Name: quantity, dtype: int64"
      ]
     },
     "execution_count": 100,
     "metadata": {},
     "output_type": "execute_result"
    }
   ],
   "source": [
    "df_mode['quantity'].value_counts()"
   ]
  },
  {
   "cell_type": "code",
   "execution_count": 104,
   "metadata": {},
   "outputs": [
    {
     "data": {
      "image/png": "[encoded data removed]",
      "text/plain": [
       "<Figure size 1152x576 with 1 Axes>"
      ]
     },
     "metadata": {},
     "output_type": "display_data"
    }
   ],
   "source": [
    "plt.figure(figsize=(16,8))\n",
    "ax = sns.countplot(x='quantity', hue=\"status_group\", data=df_mode)"
   ]
  },
  {
   "cell_type": "markdown",
   "metadata": {},
   "source": [
    "### Bivariate Analysis"
   ]
  },
  {
   "cell_type": "markdown",
   "metadata": {},
   "source": [
    "### Relationship between the population and the quantity"
   ]
  },
  {
   "cell_type": "code",
   "execution_count": 107,
   "metadata": {},
   "outputs": [
    {
     "data": {
      "text/plain": [
       "Text(0, 0.5, 'Population')"
      ]
     },
     "execution_count": 107,
     "metadata": {},
     "output_type": "execute_result"
    },
    {
     "data": {
      "image/png": "[encoded data removed]",
      "text/plain": [
       "<Figure size 864x432 with 1 Axes>"
      ]
     },
     "metadata": {},
     "output_type": "display_data"
    }
   ],
   "source": [
    "plt.figure(figsize=(12, 6))\n",
    "sns.barplot(x='quantity', y='population', data=df_mode)\n",
    "plt.title('Bar Plot of Population and Quantity Categories')\n",
    "plt.xlabel('Quantity')\n",
    "plt.ylabel('Population')"
   ]
  },
  {
   "cell_type": "markdown",
   "metadata": {},
   "source": [
    "Below is a scatterplot of the same."
   ]
  },
  {
   "cell_type": "code",
   "execution_count": 106,
   "metadata": {},
   "outputs": [
    {
     "data": {
      "image/png": "[encoded data removed]",
      "text/plain": [
       "<Figure size 720x432 with 1 Axes>"
      ]
     },
     "metadata": {},
     "output_type": "display_data"
    }
   ],
   "source": [
    "plt.figure(figsize=(10, 6))\n",
    "sns.scatterplot(data=df_mode, x='population', y='quantity')\n",
    "plt.title('Scatter Plot of Population vs Quantity')\n",
    "plt.xlabel('Population')\n",
    "plt.ylabel('Quantity')\n",
    "plt.show()"
   ]
  },
  {
   "cell_type": "markdown",
   "metadata": {},
   "source": []
  },
  {
   "cell_type": "code",
   "execution_count": null,
   "metadata": {},
   "outputs": [],
   "source": []
  }
 ],
 "metadata": {
  "kernelspec": {
   "display_name": "Python",
   "language": "python",
   "name": "learn-env"
  },
  "language_info": {
   "codemirror_mode": {
    "name": "ipython",
    "version": 3
   },
   "file_extension": ".py",
   "mimetype": "text/x-python",
   "name": "python",
   "nbconvert_exporter": "python",
   "pygments_lexer": "ipython3",
   "version": "3.8.5"
  }
 },
 "nbformat": 4,
 "nbformat_minor": 2
}
